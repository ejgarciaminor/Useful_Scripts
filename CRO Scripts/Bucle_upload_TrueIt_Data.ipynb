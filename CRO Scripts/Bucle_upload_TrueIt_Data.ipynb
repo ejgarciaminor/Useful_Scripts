{
 "cells": [
  {
   "cell_type": "code",
   "execution_count": 137,
   "metadata": {},
   "outputs": [
    {
     "name": "stdout",
     "output_type": "stream",
     "text": [
      "Año:  2025\n",
      "Mes:  01\n",
      "Día inicio: 1\n",
      "Día fin: 17\n"
     ]
    }
   ],
   "source": [
    "import pandas as pd\n",
    "import pandas_gbq\n",
    "from pandas.io import gbq\n",
    "from datetime import date, timedelta, datetime\n",
    "import ctypes\n",
    "import chardet\n",
    "import gcsfs\n",
    "from io import StringIO\n",
    "import google.auth\n",
    "from gcloud import storage\n",
    "from oauth2client.service_account import ServiceAccountCredentials\n",
    "from google.cloud import bigquery\n",
    "from google.oauth2 import service_account\n",
    "import logging\n",
    "import os\n",
    "import win32com.client\n",
    "import warnings\n",
    "warnings.filterwarnings('ignore')\n",
    "import time\n",
    "\n",
    "# Credentials to extract data from the Bucket\n",
    "fs = gcsfs.GCSFileSystem(project='nh-cro-forecast', token = r'C:\\Users\\ej.garcia\\OneDrive - Minor Hotels Europe & Americas\\Escritorio\\nh-cro-forecast-ec5c044f54cf.json')\n",
    "\n",
    "#DEFINIMOS AÑO, MES E INICIO DE DIA Y FINAL DE DIA\n",
    "year = \"2025\"\n",
    "print('Año: ',year)\n",
    "mes = \"01\"\n",
    "print(\"Mes: \",mes)\n",
    "\n",
    "inicio_dia = \"1\"\n",
    "print(\"Día inicio:\", inicio_dia)\n",
    "\n",
    "fin_dia = \"17\"\n",
    "print(\"Día fin:\", fin_dia)"
   ]
  },
  {
   "cell_type": "code",
   "execution_count": 131,
   "metadata": {},
   "outputs": [],
   "source": [
    "with fs.open('trueit_external/SLA_Completed_Hotel/SLA_Completed_Hotel_'+year+mes+inicio_dia+'.csv') as f:\n",
    "    doc = pd.read_csv(f,delimiter = ';', encoding='latin-1')"
   ]
  },
  {
   "cell_type": "code",
   "execution_count": 132,
   "metadata": {},
   "outputs": [
    {
     "data": {
      "text/html": [
       "<div>\n",
       "<style scoped>\n",
       "    .dataframe tbody tr th:only-of-type {\n",
       "        vertical-align: middle;\n",
       "    }\n",
       "\n",
       "    .dataframe tbody tr th {\n",
       "        vertical-align: top;\n",
       "    }\n",
       "\n",
       "    .dataframe thead th {\n",
       "        text-align: right;\n",
       "    }\n",
       "</style>\n",
       "<table border=\"1\" class=\"dataframe\">\n",
       "  <thead>\n",
       "    <tr style=\"text-align: right;\">\n",
       "      <th></th>\n",
       "      <th>grouplevel</th>\n",
       "      <th>Service</th>\n",
       "      <th>ENTRY_DATE</th>\n",
       "      <th>ENTRY_HOUR</th>\n",
       "      <th>ACTIVITY_ID</th>\n",
       "      <th>CASE_ID</th>\n",
       "      <th>Alias</th>\n",
       "      <th>AGENT_DISTRIBUTED</th>\n",
       "      <th>DISTRIBUTED_DATE</th>\n",
       "      <th>DISTRIBUTED_HOUR</th>\n",
       "      <th>...</th>\n",
       "      <th>due_on</th>\n",
       "      <th>from_mail</th>\n",
       "      <th>DIRECTION</th>\n",
       "      <th>REAL_TIME_ACTIVITY</th>\n",
       "      <th>MATCH</th>\n",
       "      <th>MATCH LEVEL</th>\n",
       "      <th>HOTEL</th>\n",
       "      <th>PAIS</th>\n",
       "      <th>CIUDAD</th>\n",
       "      <th>ID</th>\n",
       "    </tr>\n",
       "  </thead>\n",
       "  <tbody>\n",
       "    <tr>\n",
       "      <th>0</th>\n",
       "      <td>0</td>\n",
       "      <td>Coordinacion</td>\n",
       "      <td>18/12/2024</td>\n",
       "      <td>16:07:26</td>\n",
       "      <td>126961953</td>\n",
       "      <td>110978798</td>\n",
       "      <td>a.dali@nh-hotels.com</td>\n",
       "      <td>SYSTEM SYSTEM</td>\n",
       "      <td>18/12/2024</td>\n",
       "      <td>16:39:17</td>\n",
       "      <td>...</td>\n",
       "      <td>20/12/2024 18:07:26</td>\n",
       "      <td>a.dali@minor-hotels.com</td>\n",
       "      <td>IN</td>\n",
       "      <td>00:00:00</td>\n",
       "      <td>NaN</td>\n",
       "      <td>NaN</td>\n",
       "      <td>NaN</td>\n",
       "      <td>NaN</td>\n",
       "      <td>NaN</td>\n",
       "      <td>NaN</td>\n",
       "    </tr>\n",
       "    <tr>\n",
       "      <th>1</th>\n",
       "      <td>0</td>\n",
       "      <td>Coordinacion</td>\n",
       "      <td>18/12/2024</td>\n",
       "      <td>16:14:23</td>\n",
       "      <td>126962175</td>\n",
       "      <td>110975623</td>\n",
       "      <td>supportcro@nh-hotels.com</td>\n",
       "      <td>SYSTEM SYSTEM</td>\n",
       "      <td>18/12/2024</td>\n",
       "      <td>17:17:55</td>\n",
       "      <td>...</td>\n",
       "      <td>20/12/2024 18:14:23</td>\n",
       "      <td>j.van@minor-hotels.com</td>\n",
       "      <td>IN</td>\n",
       "      <td>00:00:00</td>\n",
       "      <td>NaN</td>\n",
       "      <td>NaN</td>\n",
       "      <td>NaN</td>\n",
       "      <td>NaN</td>\n",
       "      <td>NaN</td>\n",
       "      <td>NaN</td>\n",
       "    </tr>\n",
       "    <tr>\n",
       "      <th>2</th>\n",
       "      <td>0</td>\n",
       "      <td>Coordinacion</td>\n",
       "      <td>18/12/2024</td>\n",
       "      <td>13:58:12</td>\n",
       "      <td>126958490</td>\n",
       "      <td>110977455</td>\n",
       "      <td>supportcro@nh-hotels.com</td>\n",
       "      <td>SYSTEM SYSTEM</td>\n",
       "      <td>18/12/2024</td>\n",
       "      <td>17:20:35</td>\n",
       "      <td>...</td>\n",
       "      <td>20/12/2024 15:58:12</td>\n",
       "      <td>reservierungen@nh-hotels.com</td>\n",
       "      <td>IN</td>\n",
       "      <td>00:00:00</td>\n",
       "      <td>NaN</td>\n",
       "      <td>NaN</td>\n",
       "      <td>NaN</td>\n",
       "      <td>NaN</td>\n",
       "      <td>NaN</td>\n",
       "      <td>NaN</td>\n",
       "    </tr>\n",
       "    <tr>\n",
       "      <th>3</th>\n",
       "      <td>0</td>\n",
       "      <td>Coordinacion</td>\n",
       "      <td>18/12/2024</td>\n",
       "      <td>16:56:36</td>\n",
       "      <td>126963242</td>\n",
       "      <td>110979332</td>\n",
       "      <td>supportcro@nh-hotels.com</td>\n",
       "      <td>SYSTEM SYSTEM</td>\n",
       "      <td>18/12/2024</td>\n",
       "      <td>17:20:35</td>\n",
       "      <td>...</td>\n",
       "      <td>20/12/2024 18:56:36</td>\n",
       "      <td>leisurebookings@nh-hotels.com</td>\n",
       "      <td>IN</td>\n",
       "      <td>00:00:00</td>\n",
       "      <td>NaN</td>\n",
       "      <td>NaN</td>\n",
       "      <td>NaN</td>\n",
       "      <td>NaN</td>\n",
       "      <td>NaN</td>\n",
       "      <td>NaN</td>\n",
       "    </tr>\n",
       "    <tr>\n",
       "      <th>4</th>\n",
       "      <td>0</td>\n",
       "      <td>Coordinacion</td>\n",
       "      <td>18/12/2024</td>\n",
       "      <td>18:21:57</td>\n",
       "      <td>126965114</td>\n",
       "      <td>110972213</td>\n",
       "      <td>supportcro@nh-hotels.com</td>\n",
       "      <td>SYSTEM SYSTEM</td>\n",
       "      <td>18/12/2024</td>\n",
       "      <td>19:35:45</td>\n",
       "      <td>...</td>\n",
       "      <td>20/12/2024 20:21:57</td>\n",
       "      <td>nhdiscovery@nh-hotels.com</td>\n",
       "      <td>IN</td>\n",
       "      <td>00:00:00</td>\n",
       "      <td>NaN</td>\n",
       "      <td>NaN</td>\n",
       "      <td>NaN</td>\n",
       "      <td>NaN</td>\n",
       "      <td>NaN</td>\n",
       "      <td>NaN</td>\n",
       "    </tr>\n",
       "  </tbody>\n",
       "</table>\n",
       "<p>5 rows × 27 columns</p>\n",
       "</div>"
      ],
      "text/plain": [
       "   grouplevel       Service  ENTRY_DATE ENTRY_HOUR  ACTIVITY_ID    CASE_ID  \\\n",
       "0           0  Coordinacion  18/12/2024   16:07:26    126961953  110978798   \n",
       "1           0  Coordinacion  18/12/2024   16:14:23    126962175  110975623   \n",
       "2           0  Coordinacion  18/12/2024   13:58:12    126958490  110977455   \n",
       "3           0  Coordinacion  18/12/2024   16:56:36    126963242  110979332   \n",
       "4           0  Coordinacion  18/12/2024   18:21:57    126965114  110972213   \n",
       "\n",
       "                      Alias AGENT_DISTRIBUTED DISTRIBUTED_DATE  \\\n",
       "0      a.dali@nh-hotels.com     SYSTEM SYSTEM       18/12/2024   \n",
       "1  supportcro@nh-hotels.com     SYSTEM SYSTEM       18/12/2024   \n",
       "2  supportcro@nh-hotels.com     SYSTEM SYSTEM       18/12/2024   \n",
       "3  supportcro@nh-hotels.com     SYSTEM SYSTEM       18/12/2024   \n",
       "4  supportcro@nh-hotels.com     SYSTEM SYSTEM       18/12/2024   \n",
       "\n",
       "  DISTRIBUTED_HOUR  ...               due_on                      from_mail  \\\n",
       "0         16:39:17  ...  20/12/2024 18:07:26        a.dali@minor-hotels.com   \n",
       "1         17:17:55  ...  20/12/2024 18:14:23         j.van@minor-hotels.com   \n",
       "2         17:20:35  ...  20/12/2024 15:58:12   reservierungen@nh-hotels.com   \n",
       "3         17:20:35  ...  20/12/2024 18:56:36  leisurebookings@nh-hotels.com   \n",
       "4         19:35:45  ...  20/12/2024 20:21:57      nhdiscovery@nh-hotels.com   \n",
       "\n",
       "  DIRECTION REAL_TIME_ACTIVITY MATCH MATCH LEVEL HOTEL PAIS CIUDAD   ID  \n",
       "0        IN           00:00:00   NaN         NaN   NaN  NaN    NaN  NaN  \n",
       "1        IN           00:00:00   NaN         NaN   NaN  NaN    NaN  NaN  \n",
       "2        IN           00:00:00   NaN         NaN   NaN  NaN    NaN  NaN  \n",
       "3        IN           00:00:00   NaN         NaN   NaN  NaN    NaN  NaN  \n",
       "4        IN           00:00:00   NaN         NaN   NaN  NaN    NaN  NaN  \n",
       "\n",
       "[5 rows x 27 columns]"
      ]
     },
     "execution_count": 132,
     "metadata": {},
     "output_type": "execute_result"
    }
   ],
   "source": [
    "doc.head()"
   ]
  },
  {
   "cell_type": "code",
   "execution_count": 138,
   "metadata": {},
   "outputs": [
    {
     "name": "stdout",
     "output_type": "stream",
     "text": [
      "Subiendo datos del archivo de día:01\n"
     ]
    },
    {
     "name": "stderr",
     "output_type": "stream",
     "text": [
      "100%|██████████| 1/1 [00:00<?, ?it/s]\n"
     ]
    },
    {
     "name": "stdout",
     "output_type": "stream",
     "text": [
      "Subiendo datos del archivo de día:02\n"
     ]
    },
    {
     "name": "stderr",
     "output_type": "stream",
     "text": [
      "100%|██████████| 1/1 [00:00<00:00, 1003.42it/s]\n"
     ]
    },
    {
     "name": "stdout",
     "output_type": "stream",
     "text": [
      "Subiendo datos del archivo de día:03\n"
     ]
    },
    {
     "name": "stderr",
     "output_type": "stream",
     "text": [
      "100%|██████████| 1/1 [00:00<?, ?it/s]\n"
     ]
    },
    {
     "name": "stdout",
     "output_type": "stream",
     "text": [
      "Subiendo datos del archivo de día:04\n"
     ]
    },
    {
     "name": "stderr",
     "output_type": "stream",
     "text": [
      "100%|██████████| 1/1 [00:00<?, ?it/s]\n"
     ]
    },
    {
     "name": "stdout",
     "output_type": "stream",
     "text": [
      "Subiendo datos del archivo de día:05\n"
     ]
    },
    {
     "name": "stderr",
     "output_type": "stream",
     "text": [
      "100%|██████████| 1/1 [00:00<?, ?it/s]\n"
     ]
    },
    {
     "name": "stdout",
     "output_type": "stream",
     "text": [
      "Subiendo datos del archivo de día:06\n"
     ]
    },
    {
     "name": "stderr",
     "output_type": "stream",
     "text": [
      "100%|██████████| 1/1 [00:00<00:00, 560.44it/s]\n"
     ]
    },
    {
     "name": "stdout",
     "output_type": "stream",
     "text": [
      "Subiendo datos del archivo de día:07\n"
     ]
    },
    {
     "name": "stderr",
     "output_type": "stream",
     "text": [
      "100%|██████████| 1/1 [00:00<?, ?it/s]\n"
     ]
    },
    {
     "name": "stdout",
     "output_type": "stream",
     "text": [
      "Subiendo datos del archivo de día:08\n"
     ]
    },
    {
     "name": "stderr",
     "output_type": "stream",
     "text": [
      "100%|██████████| 1/1 [00:00<00:00, 1000.55it/s]\n"
     ]
    },
    {
     "name": "stdout",
     "output_type": "stream",
     "text": [
      "Subiendo datos del archivo de día:09\n"
     ]
    },
    {
     "name": "stderr",
     "output_type": "stream",
     "text": [
      "100%|██████████| 1/1 [00:00<?, ?it/s]\n"
     ]
    },
    {
     "name": "stdout",
     "output_type": "stream",
     "text": [
      "Subiendo datos del archivo de día:10\n"
     ]
    },
    {
     "name": "stderr",
     "output_type": "stream",
     "text": [
      "100%|██████████| 1/1 [00:00<?, ?it/s]\n"
     ]
    },
    {
     "name": "stdout",
     "output_type": "stream",
     "text": [
      "Subiendo datos del archivo de día:11\n"
     ]
    },
    {
     "name": "stderr",
     "output_type": "stream",
     "text": [
      "100%|██████████| 1/1 [00:00<?, ?it/s]\n"
     ]
    },
    {
     "name": "stdout",
     "output_type": "stream",
     "text": [
      "Subiendo datos del archivo de día:12\n"
     ]
    },
    {
     "name": "stderr",
     "output_type": "stream",
     "text": [
      "100%|██████████| 1/1 [00:00<?, ?it/s]\n"
     ]
    },
    {
     "name": "stdout",
     "output_type": "stream",
     "text": [
      "Subiendo datos del archivo de día:13\n"
     ]
    },
    {
     "name": "stderr",
     "output_type": "stream",
     "text": [
      "100%|██████████| 1/1 [00:00<?, ?it/s]\n"
     ]
    },
    {
     "name": "stdout",
     "output_type": "stream",
     "text": [
      "Subiendo datos del archivo de día:14\n"
     ]
    },
    {
     "name": "stderr",
     "output_type": "stream",
     "text": [
      "100%|██████████| 1/1 [00:00<?, ?it/s]\n"
     ]
    },
    {
     "name": "stdout",
     "output_type": "stream",
     "text": [
      "Subiendo datos del archivo de día:15\n"
     ]
    },
    {
     "name": "stderr",
     "output_type": "stream",
     "text": [
      "100%|██████████| 1/1 [00:00<?, ?it/s]\n"
     ]
    },
    {
     "name": "stdout",
     "output_type": "stream",
     "text": [
      "Subiendo datos del archivo de día:16\n"
     ]
    },
    {
     "name": "stderr",
     "output_type": "stream",
     "text": [
      "100%|██████████| 1/1 [00:00<?, ?it/s]\n"
     ]
    },
    {
     "name": "stdout",
     "output_type": "stream",
     "text": [
      "Subiendo datos del archivo de día:17\n"
     ]
    },
    {
     "name": "stderr",
     "output_type": "stream",
     "text": [
      "100%|██████████| 1/1 [00:00<?, ?it/s]\n"
     ]
    }
   ],
   "source": [
    "for i in range(int(inicio_dia),int(fin_dia)+1):\n",
    "    if i <10: \n",
    "        Day = \"0\"+str(i)\n",
    "        print(f\"Subiendo datos del archivo de día:{Day}\")\n",
    "        with fs.open('trueit_external/SLA_Completed_Hotel/SLA_Completed_Hotel_'+year+mes+Day+'.csv') as f:\n",
    "            doc = pd.read_csv(f,delimiter = ';', encoding='latin-1')\n",
    "        doc = doc.iloc[:,1:]\n",
    "        doc.columns=['Service',\n",
    "                    'Entry_date',\n",
    "                    'Entry_hour',\n",
    "                    'Activity_ID',\n",
    "                    'Case_ID',\n",
    "                    'Alias',\n",
    "                    'Agent_distributed',\n",
    "                    'Distributed_date',\n",
    "                    'Distributed_hour',\n",
    "                    'Queue',\n",
    "                    'Completed',\n",
    "                    'Agent_completed',\n",
    "                    'Completed_date',\n",
    "                    'Completed_hour',\n",
    "                    'Type',\n",
    "                    'Subtype',\n",
    "                    'due_on',\n",
    "                    'From_mail',\n",
    "                    'IN_OUT',\n",
    "                    'Total_time',\n",
    "                    'Match',\n",
    "                    'Match_level',\n",
    "                    'Hotel',\n",
    "                    'Country',\n",
    "                    'City',\n",
    "                    'Hotel_Id'\n",
    "                    ]\n",
    "        # doc.insert(20,'Match','KKKKK')\n",
    "        # doc.insert(25,'Hotel_ID','')\n",
    "        raw = doc.astype(str)\n",
    "        raw = raw.loc[:,['Service',\n",
    "                'Entry_date',\n",
    "                'Entry_hour',\n",
    "                'Activity_ID',\n",
    "                'Case_ID',\n",
    "                'Alias',\n",
    "                'Agent_distributed',\n",
    "                'Distributed_date',\n",
    "                'Distributed_hour',\n",
    "                'Queue',\n",
    "                'Completed',\n",
    "                'Agent_completed',\n",
    "                'Completed_date',\n",
    "                'Completed_hour',\n",
    "                'Type',\n",
    "                'Subtype',\n",
    "                'due_on',\n",
    "                'From_mail',\n",
    "                'IN_OUT',\n",
    "                'Total_time',\n",
    "                'Match',\n",
    "                'Match_level',\n",
    "                'Country',\n",
    "                'City',\n",
    "                'Hotel',\n",
    "                'Hotel_Id']]\n",
    "        raw.replace(['NaN','None','NaT',' ','nan'],[None,None,None,None,None],inplace=True)\n",
    "        raw[\"Entry_date\"] = pd.to_datetime(raw[\"Entry_date\"], format = '%d/%m/%Y').dt.strftime('%Y-%m-%d')\n",
    "        raw[\"Completed_date\"] = pd.to_datetime(raw[\"Completed_date\"], format = '%d/%m/%Y').dt.strftime('%Y-%m-%d')\n",
    "        raw[\"Distributed_date\"] = pd.to_datetime(raw[\"Distributed_date\"], format = '%d/%m/%Y').dt.strftime('%Y-%m-%d')\n",
    "        raw.to_gbq(destination_table='Evolution.SLA_completed_Hotel_pdf',project_id='nh-cro-forecast', if_exists='append')\n",
    "        time.sleep(0.5)\n",
    "\n",
    "    else:\n",
    "        Day = str(i)\n",
    "        print(f\"Subiendo datos del archivo de día:{Day}\")\n",
    "        with fs.open('trueit_external/SLA_Completed_Hotel/SLA_Completed_Hotel_'+year+mes+Day+'.csv') as f:\n",
    "            doc = pd.read_csv(f,delimiter = ';', encoding='latin-1')\n",
    "        doc = doc.iloc[:,1:]\n",
    "        doc.columns=['Service',\n",
    "                    'Entry_date',\n",
    "                    'Entry_hour',\n",
    "                    'Activity_ID',\n",
    "                    'Case_ID',\n",
    "                    'Alias',\n",
    "                    'Agent_distributed',\n",
    "                    'Distributed_date',\n",
    "                    'Distributed_hour',\n",
    "                    'Queue',\n",
    "                    'Completed',\n",
    "                    'Agent_completed',\n",
    "                    'Completed_date',\n",
    "                    'Completed_hour',\n",
    "                    'Type',\n",
    "                    'Subtype',\n",
    "                    'due_on',\n",
    "                    'From_mail',\n",
    "                    'IN_OUT',\n",
    "                    'Total_time',\n",
    "                    'Match',\n",
    "                    'Match_level',\n",
    "                    'Hotel',\n",
    "                    'Country',\n",
    "                    'City',\n",
    "                    'Hotel_Id'\n",
    "                    ]\n",
    "        # doc.insert(20,'Match','')\n",
    "        # doc.insert(25,'Hotel_ID','')\n",
    "        raw = doc.astype(str)\n",
    "        raw = raw.loc[:,['Service',\n",
    "                'Entry_date',\n",
    "                'Entry_hour',\n",
    "                'Activity_ID',\n",
    "                'Case_ID',\n",
    "                'Alias',\n",
    "                'Agent_distributed',\n",
    "                'Distributed_date',\n",
    "                'Distributed_hour',\n",
    "                'Queue',\n",
    "                'Completed',\n",
    "                'Agent_completed',\n",
    "                'Completed_date',\n",
    "                'Completed_hour',\n",
    "                'Type',\n",
    "                'Subtype',\n",
    "                'due_on',\n",
    "                'From_mail',\n",
    "                'IN_OUT',\n",
    "                'Total_time',\n",
    "                'Match',\n",
    "                'Match_level',\n",
    "                'Country',\n",
    "                'City',\n",
    "                'Hotel',\n",
    "                'Hotel_Id']]\n",
    "        raw = doc.astype(str)\n",
    "        raw.replace(['NaN','None','NaT',' ','nan'],[None,None,None,None,None],inplace=True)\n",
    "        raw[\"Entry_date\"] = pd.to_datetime(raw[\"Entry_date\"], format = '%d/%m/%Y').dt.strftime('%Y-%m-%d')\n",
    "        raw[\"Completed_date\"] = pd.to_datetime(raw[\"Completed_date\"], format = '%d/%m/%Y').dt.strftime('%Y-%m-%d')\n",
    "        raw[\"Distributed_date\"] = pd.to_datetime(raw[\"Distributed_date\"], format = '%d/%m/%Y').dt.strftime('%Y-%m-%d')\n",
    "        raw.to_gbq(destination_table='Evolution.SLA_completed_Hotel_pdf',project_id='nh-cro-forecast', if_exists='append')\n",
    "        time.sleep(0.5)"
   ]
  },
  {
   "cell_type": "code",
   "execution_count": 82,
   "metadata": {},
   "outputs": [],
   "source": [
    "with fs.open('trueit_external/SLA_Completed_Hotel/SLA_Completed_Hotel_'+year+mes+Day+'.csv') as f:\n",
    "    doc = pd.read_csv(f,delimiter = ';', encoding='latin-1')\n",
    "doc = doc.iloc[:,1:]"
   ]
  },
  {
   "cell_type": "code",
   "execution_count": 83,
   "metadata": {},
   "outputs": [
    {
     "name": "stdout",
     "output_type": "stream",
     "text": [
      "<class 'pandas.core.frame.DataFrame'>\n",
      "RangeIndex: 11075 entries, 0 to 11074\n",
      "Data columns (total 26 columns):\n",
      " #   Column              Non-Null Count  Dtype  \n",
      "---  ------              --------------  -----  \n",
      " 0   Service             11075 non-null  object \n",
      " 1   ENTRY_DATE          11075 non-null  object \n",
      " 2   ENTRY_HOUR          11075 non-null  object \n",
      " 3   ACTIVITY_ID         11075 non-null  int64  \n",
      " 4   CASE_ID             11075 non-null  int64  \n",
      " 5   Alias               6448 non-null   object \n",
      " 6   AGENT_DISTRIBUTED   11075 non-null  object \n",
      " 7   DISTRIBUTED_DATE    11075 non-null  object \n",
      " 8   DISTRIBUTED_HOUR    11075 non-null  object \n",
      " 9   QUEUE               11075 non-null  object \n",
      " 10  COMPLETED           11075 non-null  object \n",
      " 11  AGENT_COMPLETED     11075 non-null  object \n",
      " 12  COMPLETED_DATE      11075 non-null  object \n",
      " 13  COMPLETED_HOUR      11075 non-null  object \n",
      " 14  Type                11075 non-null  object \n",
      " 15  Subtype             11075 non-null  object \n",
      " 16  due_on              11075 non-null  object \n",
      " 17  from_mail           11075 non-null  object \n",
      " 18  DIRECTION           11075 non-null  object \n",
      " 19  REAL_TIME_ACTIVITY  11075 non-null  object \n",
      " 20  MATCH               7446 non-null   object \n",
      " 21  MATCH LEVEL         7446 non-null   float64\n",
      " 22  PAIS                7417 non-null   object \n",
      " 23  CIUDAD              7332 non-null   object \n",
      " 24  HOTEL               6936 non-null   object \n",
      " 25  ID                  7446 non-null   float64\n",
      "dtypes: float64(2), int64(2), object(22)\n",
      "memory usage: 2.2+ MB\n"
     ]
    }
   ],
   "source": [
    "doc.info()"
   ]
  },
  {
   "cell_type": "code",
   "execution_count": 44,
   "metadata": {},
   "outputs": [
    {
     "name": "stdout",
     "output_type": "stream",
     "text": [
      "<class 'pandas.core.frame.DataFrame'>\n",
      "RangeIndex: 12927 entries, 0 to 12926\n",
      "Data columns (total 26 columns):\n",
      " #   Column             Non-Null Count  Dtype \n",
      "---  ------             --------------  ----- \n",
      " 0   Service            12927 non-null  object\n",
      " 1   Entry_date         12927 non-null  object\n",
      " 2   Entry_hour         12927 non-null  object\n",
      " 3   Activity_ID        12927 non-null  object\n",
      " 4   Case_ID            12927 non-null  object\n",
      " 5   Alias              7496 non-null   object\n",
      " 6   Agent_distributed  12927 non-null  object\n",
      " 7   Distributed_date   12927 non-null  object\n",
      " 8   Distributed_hour   12927 non-null  object\n",
      " 9   Queue              12927 non-null  object\n",
      " 10  Completed          12927 non-null  object\n",
      " 11  Agent_completed    12927 non-null  object\n",
      " 12  Completed_date     12927 non-null  object\n",
      " 13  Completed_hour     12927 non-null  object\n",
      " 14  Type               12927 non-null  object\n",
      " 15  Subtype            12927 non-null  object\n",
      " 16  due_on             12927 non-null  object\n",
      " 17  From_mail          12927 non-null  object\n",
      " 18  IN_OUT             12927 non-null  object\n",
      " 19  Total_time         12927 non-null  object\n",
      " 20  Match              12927 non-null  object\n",
      " 21  Match_level        8095 non-null   object\n",
      " 22  Country            8065 non-null   object\n",
      " 23  City               7957 non-null   object\n",
      " 24  Hotel              7465 non-null   object\n",
      " 25  Hotel_ID           12927 non-null  object\n",
      "dtypes: object(26)\n",
      "memory usage: 2.6+ MB\n"
     ]
    }
   ],
   "source": [
    "raw.info()"
   ]
  },
  {
   "cell_type": "code",
   "execution_count": 41,
   "metadata": {},
   "outputs": [],
   "source": [
    "with fs.open('trueit_external/SLA_Completed_Hotel/SLA_Completed_Hotel_'+year+mes+Day+'.csv') as f:\n",
    "    doc = pd.read_csv(f,delimiter = ';', encoding='latin-1')\n",
    "doc = doc.iloc[:,1:]\n",
    "doc.columns=['Service',\n",
    "            'Entry_date',\n",
    "            'Entry_hour',\n",
    "            'Activity_ID',\n",
    "            'Case_ID',\n",
    "            'Alias',\n",
    "            'Agent_distributed',\n",
    "            'Distributed_date',\n",
    "            'Distributed_hour',\n",
    "            'Queue',\n",
    "            'Completed',\n",
    "            'Agent_completed',\n",
    "            'Completed_date',\n",
    "            'Completed_hour',\n",
    "            'Type',\n",
    "            'Subtype',\n",
    "            'due_on',\n",
    "            'From_mail',\n",
    "            'IN_OUT',\n",
    "            'Total_time',\n",
    "            # 'Match',\n",
    "            'Match_level',\n",
    "            'Country',\n",
    "            'City',\n",
    "            'Hotel',\n",
    "            # 'Hotel_ID'\n",
    "            ]\n",
    "doc.insert(20,'Match','KKKKK')\n",
    "doc.insert(25,'Hotel_ID','KKKKK')\n"
   ]
  },
  {
   "cell_type": "code",
   "execution_count": 42,
   "metadata": {},
   "outputs": [
    {
     "name": "stdout",
     "output_type": "stream",
     "text": [
      "<class 'pandas.core.frame.DataFrame'>\n",
      "RangeIndex: 12927 entries, 0 to 12926\n",
      "Data columns (total 26 columns):\n",
      " #   Column             Non-Null Count  Dtype \n",
      "---  ------             --------------  ----- \n",
      " 0   Service            12927 non-null  object\n",
      " 1   Entry_date         12927 non-null  object\n",
      " 2   Entry_hour         12927 non-null  object\n",
      " 3   Activity_ID        12927 non-null  int64 \n",
      " 4   Case_ID            12927 non-null  int64 \n",
      " 5   Alias              7496 non-null   object\n",
      " 6   Agent_distributed  12927 non-null  object\n",
      " 7   Distributed_date   12927 non-null  object\n",
      " 8   Distributed_hour   12927 non-null  object\n",
      " 9   Queue              12927 non-null  object\n",
      " 10  Completed          12927 non-null  object\n",
      " 11  Agent_completed    12927 non-null  object\n",
      " 12  Completed_date     12927 non-null  object\n",
      " 13  Completed_hour     12927 non-null  object\n",
      " 14  Type               12927 non-null  object\n",
      " 15  Subtype            12927 non-null  object\n",
      " 16  due_on             12927 non-null  object\n",
      " 17  From_mail          12927 non-null  object\n",
      " 18  IN_OUT             12927 non-null  object\n",
      " 19  Total_time         12927 non-null  object\n",
      " 20  Match              12927 non-null  object\n",
      " 21  Match_level        8095 non-null   object\n",
      " 22  Country            8065 non-null   object\n",
      " 23  City               7957 non-null   object\n",
      " 24  Hotel              7465 non-null   object\n",
      " 25  Hotel_ID           12927 non-null  object\n",
      "dtypes: int64(2), object(24)\n",
      "memory usage: 2.6+ MB\n"
     ]
    }
   ],
   "source": [
    "doc.info()"
   ]
  }
 ],
 "metadata": {
  "kernelspec": {
   "display_name": "base",
   "language": "python",
   "name": "python3"
  },
  "language_info": {
   "codemirror_mode": {
    "name": "ipython",
    "version": 3
   },
   "file_extension": ".py",
   "mimetype": "text/x-python",
   "name": "python",
   "nbconvert_exporter": "python",
   "pygments_lexer": "ipython3",
   "version": "3.11.7"
  }
 },
 "nbformat": 4,
 "nbformat_minor": 2
}
