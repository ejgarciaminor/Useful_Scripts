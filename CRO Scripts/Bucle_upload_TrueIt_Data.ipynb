{
 "cells": [
  {
   "cell_type": "code",
   "execution_count": 10,
   "metadata": {},
   "outputs": [
    {
     "name": "stdout",
     "output_type": "stream",
     "text": [
      "Load Date 14\n",
      "Day 15\n",
      "01\n",
      "15\n"
     ]
    }
   ],
   "source": [
    "import pandas as pd\n",
    "import pandas_gbq\n",
    "from pandas.io import gbq\n",
    "from datetime import date, timedelta, datetime\n",
    "import ctypes\n",
    "import chardet\n",
    "import gcsfs\n",
    "from io import StringIO\n",
    "import google.auth\n",
    "from gcloud import storage\n",
    "from oauth2client.service_account import ServiceAccountCredentials\n",
    "from google.cloud import bigquery\n",
    "from google.oauth2 import service_account\n",
    "import logging\n",
    "import os\n",
    "import win32com.client\n",
    "import warnings\n",
    "warnings.filterwarnings('ignore')\n",
    "import time\n",
    "\n",
    "# Credentials to extract data from the Bucket\n",
    "fs = gcsfs.GCSFileSystem(project='nh-cro-forecast', token = r'C:\\Users\\ej.garcia\\OneDrive - Minor Hotels Europe & Americas\\Escritorio\\nh-cro-forecast-ec5c044f54cf.json')\n",
    "\n",
    "#DEFINIMOS AÑO, MES E INICIO DE DIA Y FINAL DE DIA\n",
    "year = \"2025\"\n",
    "mes = \"01\"\n",
    "\n",
    "inicio_dia = \"1\"\n",
    "# print(inicio_dia)\n",
    "int(inicio_dia)\n",
    "# print(inicio_dia)\n",
    "\n",
    "fin_dia = \"15\"\n",
    "# print(fin_dia)\n",
    "int(fin_dia)\n",
    "# print(fin_dia)\n",
    "\n"
   ]
  },
  {
   "cell_type": "code",
   "execution_count": 26,
   "metadata": {},
   "outputs": [
    {
     "name": "stdout",
     "output_type": "stream",
     "text": [
      "Subiendo datos del archivo de día:01\n"
     ]
    },
    {
     "name": "stderr",
     "output_type": "stream",
     "text": [
      "100%|██████████| 1/1 [00:00<?, ?it/s]\n"
     ]
    },
    {
     "name": "stdout",
     "output_type": "stream",
     "text": [
      "Subiendo datos del archivo de día:02\n"
     ]
    },
    {
     "name": "stderr",
     "output_type": "stream",
     "text": [
      "100%|██████████| 1/1 [00:00<?, ?it/s]\n"
     ]
    },
    {
     "name": "stdout",
     "output_type": "stream",
     "text": [
      "Subiendo datos del archivo de día:03\n"
     ]
    },
    {
     "name": "stderr",
     "output_type": "stream",
     "text": [
      "100%|██████████| 1/1 [00:00<?, ?it/s]\n"
     ]
    },
    {
     "name": "stdout",
     "output_type": "stream",
     "text": [
      "Subiendo datos del archivo de día:04\n"
     ]
    },
    {
     "name": "stderr",
     "output_type": "stream",
     "text": [
      "100%|██████████| 1/1 [00:00<?, ?it/s]\n"
     ]
    },
    {
     "name": "stdout",
     "output_type": "stream",
     "text": [
      "Subiendo datos del archivo de día:05\n"
     ]
    },
    {
     "name": "stderr",
     "output_type": "stream",
     "text": [
      "100%|██████████| 1/1 [00:00<?, ?it/s]\n"
     ]
    },
    {
     "name": "stdout",
     "output_type": "stream",
     "text": [
      "Subiendo datos del archivo de día:06\n"
     ]
    },
    {
     "name": "stderr",
     "output_type": "stream",
     "text": [
      "100%|██████████| 1/1 [00:00<?, ?it/s]\n"
     ]
    },
    {
     "name": "stdout",
     "output_type": "stream",
     "text": [
      "Subiendo datos del archivo de día:07\n"
     ]
    },
    {
     "name": "stderr",
     "output_type": "stream",
     "text": [
      "100%|██████████| 1/1 [00:00<?, ?it/s]\n"
     ]
    },
    {
     "name": "stdout",
     "output_type": "stream",
     "text": [
      "Subiendo datos del archivo de día:08\n"
     ]
    },
    {
     "name": "stderr",
     "output_type": "stream",
     "text": [
      "100%|██████████| 1/1 [00:00<?, ?it/s]\n"
     ]
    },
    {
     "name": "stdout",
     "output_type": "stream",
     "text": [
      "Subiendo datos del archivo de día:09\n"
     ]
    },
    {
     "name": "stderr",
     "output_type": "stream",
     "text": [
      "100%|██████████| 1/1 [00:00<?, ?it/s]\n"
     ]
    },
    {
     "name": "stdout",
     "output_type": "stream",
     "text": [
      "Subiendo datos del archivo de día:10\n"
     ]
    },
    {
     "name": "stderr",
     "output_type": "stream",
     "text": [
      "100%|██████████| 1/1 [00:00<?, ?it/s]\n"
     ]
    },
    {
     "name": "stdout",
     "output_type": "stream",
     "text": [
      "Subiendo datos del archivo de día:11\n"
     ]
    },
    {
     "name": "stderr",
     "output_type": "stream",
     "text": [
      "100%|██████████| 1/1 [00:00<?, ?it/s]\n"
     ]
    },
    {
     "name": "stdout",
     "output_type": "stream",
     "text": [
      "Subiendo datos del archivo de día:12\n"
     ]
    },
    {
     "name": "stderr",
     "output_type": "stream",
     "text": [
      "100%|██████████| 1/1 [00:00<?, ?it/s]\n"
     ]
    },
    {
     "name": "stdout",
     "output_type": "stream",
     "text": [
      "Subiendo datos del archivo de día:13\n"
     ]
    },
    {
     "name": "stderr",
     "output_type": "stream",
     "text": [
      "100%|██████████| 1/1 [00:00<?, ?it/s]\n"
     ]
    },
    {
     "name": "stdout",
     "output_type": "stream",
     "text": [
      "Subiendo datos del archivo de día:14\n"
     ]
    },
    {
     "name": "stderr",
     "output_type": "stream",
     "text": [
      "100%|██████████| 1/1 [00:00<?, ?it/s]\n"
     ]
    },
    {
     "name": "stdout",
     "output_type": "stream",
     "text": [
      "Subiendo datos del archivo de día:15\n"
     ]
    },
    {
     "name": "stderr",
     "output_type": "stream",
     "text": [
      "100%|██████████| 1/1 [00:00<?, ?it/s]\n"
     ]
    }
   ],
   "source": [
    "for i in range(int(inicio_dia),int(fin_dia)+1):\n",
    "    if i <10: \n",
    "        Day = \"0\"+str(i)\n",
    "        print(f\"Subiendo datos del archivo de día:{Day}\")\n",
    "        with fs.open('trueit_external/SLA_Completed_Hotel/SLA_Completed_Hotel_'+year+mes+Day+'.csv') as f:\n",
    "            doc = pd.read_csv(f,delimiter = ';', encoding='latin-1')\n",
    "        doc = doc.iloc[:,1:]\n",
    "        doc.columns=['Service',\n",
    "                    'Entry_date',\n",
    "                    'Entry_hour',\n",
    "                    'Activity_ID',\n",
    "                    'Case_ID',\n",
    "                    'Alias',\n",
    "                    'Agent_distributed',\n",
    "                    'Distributed_date',\n",
    "                    'Distributed_hour',\n",
    "                    'Queue',\n",
    "                    'Completed',\n",
    "                    'Agent_completed',\n",
    "                    'Completed_date',\n",
    "                    'Completed_hour',\n",
    "                    'Type',\n",
    "                    'Subtype',\n",
    "                    'due_on',\n",
    "                    'From_mail',\n",
    "                    'IN_OUT',\n",
    "                    'Total_time',\n",
    "                    'Match',\n",
    "                    'Match_level',\n",
    "                    'Hotel',\n",
    "                    'Country',\n",
    "                    'City',\n",
    "                    'Hotel_ID']\n",
    "        raw = doc.astype(str)\n",
    "        raw = raw.loc[:,['Service',\n",
    "                'Entry_date',\n",
    "                'Entry_hour',\n",
    "                'Activity_ID',\n",
    "                'Case_ID',\n",
    "                'Alias',\n",
    "                'Agent_distributed',\n",
    "                'Distributed_date',\n",
    "                'Distributed_hour',\n",
    "                'Queue',\n",
    "                'Completed',\n",
    "                'Agent_completed',\n",
    "                'Completed_date',\n",
    "                'Completed_hour',\n",
    "                'Type',\n",
    "                'Subtype',\n",
    "                'due_on',\n",
    "                'From_mail',\n",
    "                'IN_OUT',\n",
    "                'Total_time',\n",
    "                'Match',\n",
    "                'Match_level',\n",
    "                'Country',\n",
    "                'City',\n",
    "                'Hotel',\n",
    "                'Hotel_ID']]\n",
    "        raw.replace(['NaN','None','NaT',' ','nan'],[None,None,None,None,None],inplace=True)\n",
    "        raw[\"Entry_date\"] = pd.to_datetime(raw[\"Entry_date\"], format = '%d/%m/%Y').dt.strftime('%Y-%m-%d')\n",
    "        raw[\"Completed_date\"] = pd.to_datetime(raw[\"Completed_date\"], format = '%d/%m/%Y').dt.strftime('%Y-%m-%d')\n",
    "        raw[\"Distributed_date\"] = pd.to_datetime(raw[\"Distributed_date\"], format = '%d/%m/%Y').dt.strftime('%Y-%m-%d')\n",
    "        raw.to_gbq(destination_table='Evolution.SLA_completed_Hotel_pdf',project_id='nh-cro-forecast', if_exists='append')\n",
    "        time.sleep(0.5)\n",
    "\n",
    "    else:\n",
    "        Day = str(i)\n",
    "        print(f\"Subiendo datos del archivo de día:{Day}\")\n",
    "        with fs.open('trueit_external/SLA_Completed_Hotel/SLA_Completed_Hotel_'+year+mes+Day+'.csv') as f:\n",
    "            doc = pd.read_csv(f,delimiter = ';', encoding='latin-1')\n",
    "        doc = doc.iloc[:,1:]\n",
    "        doc.columns=['Service',\n",
    "                    'Entry_date',\n",
    "                    'Entry_hour',\n",
    "                    'Activity_ID',\n",
    "                    'Case_ID',\n",
    "                    'Alias',\n",
    "                    'Agent_distributed',\n",
    "                    'Distributed_date',\n",
    "                    'Distributed_hour',\n",
    "                    'Queue',\n",
    "                    'Completed',\n",
    "                    'Agent_completed',\n",
    "                    'Completed_date',\n",
    "                    'Completed_hour',\n",
    "                    'Type',\n",
    "                    'Subtype',\n",
    "                    'due_on',\n",
    "                    'From_mail',\n",
    "                    'IN_OUT',\n",
    "                    'Total_time',\n",
    "                    'Match',\n",
    "                    'Match_level',\n",
    "                    'Hotel',\n",
    "                    'Country',\n",
    "                    'City',\n",
    "                    'Hotel_ID']\n",
    "        raw = doc.astype(str)\n",
    "        raw = raw.loc[:,['Service',\n",
    "                'Entry_date',\n",
    "                'Entry_hour',\n",
    "                'Activity_ID',\n",
    "                'Case_ID',\n",
    "                'Alias',\n",
    "                'Agent_distributed',\n",
    "                'Distributed_date',\n",
    "                'Distributed_hour',\n",
    "                'Queue',\n",
    "                'Completed',\n",
    "                'Agent_completed',\n",
    "                'Completed_date',\n",
    "                'Completed_hour',\n",
    "                'Type',\n",
    "                'Subtype',\n",
    "                'due_on',\n",
    "                'From_mail',\n",
    "                'IN_OUT',\n",
    "                'Total_time',\n",
    "                'Match',\n",
    "                'Match_level',\n",
    "                'Country',\n",
    "                'City',\n",
    "                'Hotel',\n",
    "                'Hotel_ID']]\n",
    "        raw.replace(['NaN','None','NaT',' ','nan'],[None,None,None,None,None],inplace=True)\n",
    "        raw[\"Entry_date\"] = pd.to_datetime(raw[\"Entry_date\"], format = '%d/%m/%Y').dt.strftime('%Y-%m-%d')\n",
    "        raw[\"Completed_date\"] = pd.to_datetime(raw[\"Completed_date\"], format = '%d/%m/%Y').dt.strftime('%Y-%m-%d')\n",
    "        raw[\"Distributed_date\"] = pd.to_datetime(raw[\"Distributed_date\"], format = '%d/%m/%Y').dt.strftime('%Y-%m-%d')\n",
    "        raw.to_gbq(destination_table='Evolution.SLA_completed_Hotel_pdf',project_id='nh-cro-forecast', if_exists='append')\n",
    "        time.sleep(0.5)"
   ]
  }
 ],
 "metadata": {
  "kernelspec": {
   "display_name": "base",
   "language": "python",
   "name": "python3"
  },
  "language_info": {
   "codemirror_mode": {
    "name": "ipython",
    "version": 3
   },
   "file_extension": ".py",
   "mimetype": "text/x-python",
   "name": "python",
   "nbconvert_exporter": "python",
   "pygments_lexer": "ipython3",
   "version": "3.11.7"
  }
 },
 "nbformat": 4,
 "nbformat_minor": 2
}
