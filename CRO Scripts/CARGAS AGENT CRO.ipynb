{
 "cells": [
  {
   "cell_type": "code",
   "execution_count": 3,
   "metadata": {},
   "outputs": [
    {
     "name": "stdout",
     "output_type": "stream",
     "text": [
      "12\n"
     ]
    },
    {
     "name": "stderr",
     "output_type": "stream",
     "text": [
      "c:\\Users\\ej.garcia\\AppData\\Local\\anaconda3\\Lib\\site-packages\\openpyxl\\styles\\stylesheet.py:226: UserWarning: Workbook contains no default style, apply openpyxl's default\n",
      "  warn(\"Workbook contains no default style, apply openpyxl's default\")\n"
     ]
    },
    {
     "name": "stdout",
     "output_type": "stream",
     "text": [
      "13\n"
     ]
    },
    {
     "name": "stderr",
     "output_type": "stream",
     "text": [
      "c:\\Users\\ej.garcia\\AppData\\Local\\anaconda3\\Lib\\site-packages\\openpyxl\\styles\\stylesheet.py:226: UserWarning: Workbook contains no default style, apply openpyxl's default\n",
      "  warn(\"Workbook contains no default style, apply openpyxl's default\")\n"
     ]
    },
    {
     "name": "stdout",
     "output_type": "stream",
     "text": [
      "14\n"
     ]
    },
    {
     "name": "stderr",
     "output_type": "stream",
     "text": [
      "c:\\Users\\ej.garcia\\AppData\\Local\\anaconda3\\Lib\\site-packages\\openpyxl\\styles\\stylesheet.py:226: UserWarning: Workbook contains no default style, apply openpyxl's default\n",
      "  warn(\"Workbook contains no default style, apply openpyxl's default\")\n"
     ]
    },
    {
     "name": "stdout",
     "output_type": "stream",
     "text": [
      "15\n"
     ]
    },
    {
     "name": "stderr",
     "output_type": "stream",
     "text": [
      "c:\\Users\\ej.garcia\\AppData\\Local\\anaconda3\\Lib\\site-packages\\openpyxl\\styles\\stylesheet.py:226: UserWarning: Workbook contains no default style, apply openpyxl's default\n",
      "  warn(\"Workbook contains no default style, apply openpyxl's default\")\n"
     ]
    },
    {
     "name": "stdout",
     "output_type": "stream",
     "text": [
      "16\n"
     ]
    },
    {
     "name": "stderr",
     "output_type": "stream",
     "text": [
      "c:\\Users\\ej.garcia\\AppData\\Local\\anaconda3\\Lib\\site-packages\\openpyxl\\styles\\stylesheet.py:226: UserWarning: Workbook contains no default style, apply openpyxl's default\n",
      "  warn(\"Workbook contains no default style, apply openpyxl's default\")\n"
     ]
    },
    {
     "name": "stdout",
     "output_type": "stream",
     "text": [
      "17\n"
     ]
    },
    {
     "name": "stderr",
     "output_type": "stream",
     "text": [
      "c:\\Users\\ej.garcia\\AppData\\Local\\anaconda3\\Lib\\site-packages\\openpyxl\\styles\\stylesheet.py:226: UserWarning: Workbook contains no default style, apply openpyxl's default\n",
      "  warn(\"Workbook contains no default style, apply openpyxl's default\")\n"
     ]
    },
    {
     "name": "stdout",
     "output_type": "stream",
     "text": [
      "18\n"
     ]
    },
    {
     "name": "stderr",
     "output_type": "stream",
     "text": [
      "c:\\Users\\ej.garcia\\AppData\\Local\\anaconda3\\Lib\\site-packages\\openpyxl\\styles\\stylesheet.py:226: UserWarning: Workbook contains no default style, apply openpyxl's default\n",
      "  warn(\"Workbook contains no default style, apply openpyxl's default\")\n"
     ]
    },
    {
     "name": "stdout",
     "output_type": "stream",
     "text": [
      "19\n"
     ]
    },
    {
     "name": "stderr",
     "output_type": "stream",
     "text": [
      "c:\\Users\\ej.garcia\\AppData\\Local\\anaconda3\\Lib\\site-packages\\openpyxl\\styles\\stylesheet.py:226: UserWarning: Workbook contains no default style, apply openpyxl's default\n",
      "  warn(\"Workbook contains no default style, apply openpyxl's default\")\n",
      "100%|██████████| 1/1 [00:00<?, ?it/s]\n"
     ]
    }
   ],
   "source": [
    "## IMPORTAMOS LIBRERIAS ##\n",
    "from cmath import nan\n",
    "import pandas as pd\n",
    "from pandas.io import gbq\n",
    "from datetime import date, timedelta, datetime\n",
    "import pandas_gbq\n",
    "import ctypes\n",
    "import chardet\n",
    "import os\n",
    "\n",
    "def date_range(start, end):\n",
    "    delta = end - start \n",
    "    days = [(start + timedelta(days=i)).strftime('%d%m%Y') for i in range(delta. days + 1)]\n",
    "    days_with_format = [(start + timedelta(days=i)).strftime('%Y-%m-%d') for i in range(delta. days + 1)]\n",
    "    months = [(start + timedelta(days=i)).strftime('%m') for i in range(delta. days + 1)]\n",
    "    years = [(start + timedelta(days=i)).strftime('%Y') for i in range(delta. days + 1)]\n",
    "    return days, months, years, days_with_format\n",
    "\n",
    "agente = 'XADCRM000011'\n",
    "start_date = datetime(2024, 11, 12)\n",
    "end_date = datetime(2024,  11, 19)\n",
    "dias = date_range(start_date, end_date)\n",
    "\n",
    "## DEFINIMOS LISTA CON MESES PARA IR A LA UBICACION EXACTA Y CARGAMOS EL DIRECTORIO DE FILES ##\n",
    "meses = ['01. ENERO', '02. FEBRERO','03. MARZO','04. ABRIL','05. MAYO','06. JUNIO','07. JULIO','08. AGOSTO','09. SEPTIEMBRE','10. OCTUBRE','11. NOVIEMBRE','12. DICIEMBRE']\n",
    "datos = pd.DataFrame(columns=['RS_HOTEL', 'Hotel_Currency', 'RS_RESERVA',\n",
    "       'Status_Reservation_Origin_ID', 'RS_FECHA_RESERVA', 'RS_LLEGADA',\n",
    "       'RS_SALIDA', 'RS_TIPO_HAB', 'RO_Room_type_generic_upgrade',\n",
    "       'Flag_Room_Upgrade', 'RS_REGIMEN', 'RS_TARIFA', 'RS_MARKET_SEGMENT',\n",
    "       'RS_MARKET_SUBSEGMENT', 'RS_CANAL', 'RS_SUBCANAL',\n",
    "       'RO_Commercial_Subchannel', 'RS_CONTACTO', 'RS_MAIN_CUSTOMER',\n",
    "       'RS_COMPANY_ID', 'RS_CRS', 'RO_Reservation_Done_by', 'US_RES_BY',\n",
    "       'USER_GROUP', 'XBOOKING_FILE_ID', 'QUEUE_CRO', 'XRESERVA_GRP_ID',\n",
    "       'RO_Contact_person', 'Room_Nights', 'Room_Nights_Cancellation',\n",
    "       'Room_Nights_No_Show', 'Room_Nights_Ok', 'Total_Book_Revenue_FIN_EUR',\n",
    "       'Book_Room_Revenue_EUR', 'Book_Breakfast_Revenue_EUR',\n",
    "       'Cancelled_Book_Revenue_EUR', 'No_Show_Book_Revenue_EUR',\n",
    "       'Total_Other_Revenue_FIN_EUR_new', 'Total_Book_Revenue_FIN_LC',\n",
    "       'Book_Room_Revenue_LC', 'Book_Breakfast_Revenue_LC',\n",
    "       'Cancelled_Book_Revenue_LC', 'No_Show_Book_Revenue_LC',\n",
    "       'Total_Other_Revenue_FIN_LC_new', 'RO_Reservation_type',\n",
    "       'RO_Branch_Company_Responsible_TMS', 'RO_Guarantee_Category',\n",
    "       'Creation_Time_Origin', 'Creation_Date_Origin_CET',\n",
    "       'Creation_Time_Origin_CET'])\n",
    "\n",
    "for i in range(len(dias[3])):\n",
    "    load_day =      int(dias[3][i][-2:])\n",
    "    load_month =    dias[1][i]\n",
    "    load_year =     dias[2][i]\n",
    "\n",
    "    files = os.listdir(fr\"V:\\Central reservations office\\Area-3\\SOPORTE OPERACIONES\\\\01. INFORMES DIARIOS\\\\{load_year}\\\\{meses[int(load_month)-1]} {load_year}\\\\{load_day}\")\n",
    "    print(load_day)\n",
    "    for file in files: \n",
    "        if file[:7]=='CRO_TMS':\n",
    "            file2 = fr\"V:\\Central reservations office\\Area-3\\SOPORTE OPERACIONES\\\\01. INFORMES DIARIOS\\\\{load_year}\\\\{meses[int(load_month)-1]} {load_year}\\\\{load_day}\\\\{file}\"\n",
    "            TMS = pd.read_excel(file2,dtype=str).replace(['NaN','None','NaT',' ','nan',nan],[None,None,None,None,None,None]).rename(columns={'Hotel Currency':'Hotel_Currency',\n",
    "                                                                                                                                                    'Status Reservation Origin ID':'Status_Reservation_Origin_ID',\n",
    "                                                                                                                                                    'RO Room type generic (upgrade)':'RO_Room_type_generic_upgrade',\n",
    "                                                                                                                                                    'RO Commercial Subchannel':'RO_Commercial_Subchannel',\n",
    "                                                                                                                                                    'RO Reservation Done By':'RO_Reservation_Done_by',\n",
    "                                                                                                                                                    'RO Contact person':'RO_Contact_person',\n",
    "                                                                                                                                                    'Room Nights':'Room_Nights',\n",
    "                                                                                                                                                    'Room Nights CXL':'Room_Nights_Cancellation',\n",
    "                                                                                                                                                    'Room Nights No Show':'Room_Nights_No_Show',\n",
    "                                                                                                                                                    'Room Nights OK':'Room_Nights_Ok',\n",
    "                                                                                                                                                    'Total Book Revenue FIN EUR':'Total_Book_Revenue_FIN_EUR',\n",
    "                                                                                                                                                    'Book Room Revenue EUR':'Book_Room_Revenue_EUR',\n",
    "                                                                                                                                                    'Book Breakfast Revenue EUR':'Book_Breakfast_Revenue_EUR',\n",
    "                                                                                                                                                    'Cancelled Book Revenue EUR':'Cancelled_Book_Revenue_EUR',\n",
    "                                                                                                                                                    'No Show Book Revenue EUR':'No_Show_Book_Revenue_EUR',\n",
    "                                                                                                                                                    'Total Other Revenue FIN EUR (new)':'Total_Other_Revenue_FIN_EUR_new',\n",
    "                                                                                                                                                    'Total Book Revenue FIN LC':'Total_Book_Revenue_FIN_LC',\n",
    "                                                                                                                                                    'Book Room Revenue LC':'Book_Room_Revenue_LC',\n",
    "                                                                                                                                                    'Book Breakfast Revenue LC':'Book_Breakfast_Revenue_LC',\n",
    "                                                                                                                                                    'Cancelled Book Revenue LC':'Cancelled_Book_Revenue_LC',\n",
    "                                                                                                                                                    'No Show Book Revenue LC':'No_Show_Book_Revenue_LC',\n",
    "                                                                                                                                                    'Total Other Revenue FIN LC (new)':'Total_Other_Revenue_FIN_LC_new',\n",
    "                                                                                                                                                    'RO Reservation type':'RO_Reservation_type',\n",
    "                                                                                                                                                    'RO Branch Company Responsible TMS':'RO_Branch_Company_Responsible_TMS',\n",
    "                                                                                                                                                    'RO Guarantee Category':'RO_Guarantee_Category',\n",
    "                                                                                                                                                    'Creation Time Origin':'Creation_Time_Origin',\n",
    "                                                                                                                                                    'Creation Date Origin CET':'Creation_Date_Origin_CET',\n",
    "                                                                                                                                                    'Creation Time Origin CET':'Creation_Time_Origin_CET'})\n",
    "            TMS['RS_RESERVA'] = TMS['RS_RESERVA'].astype(float).astype(int)\n",
    "            TMS = TMS.astype(str)\n",
    "            TMS.replace(['NaN','None','NaT',' ','nan',nan],[None,None,None,None,None,None], inplace=True)\n",
    "            TMS = TMS[TMS['RO_Reservation_Done_by']==agente]\n",
    "            # datos = datos.append(TMS)\n",
    "            datos = pd.concat([datos,TMS],ignore_index=True)\n",
    "\n",
    "\n",
    "datos.to_gbq(destination_table='TMS.b_Reservation_entry_data_raw_temporal',project_id='nh-cro-forecast',if_exists='replace')\n"
   ]
  }
 ],
 "metadata": {
  "kernelspec": {
   "display_name": "base",
   "language": "python",
   "name": "python3"
  },
  "language_info": {
   "codemirror_mode": {
    "name": "ipython",
    "version": 3
   },
   "file_extension": ".py",
   "mimetype": "text/x-python",
   "name": "python",
   "nbconvert_exporter": "python",
   "pygments_lexer": "ipython3",
   "version": "3.11.7"
  }
 },
 "nbformat": 4,
 "nbformat_minor": 2
}
