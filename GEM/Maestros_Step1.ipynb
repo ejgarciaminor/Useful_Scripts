{
 "cells": [
  {
   "cell_type": "code",
   "execution_count": 1,
   "id": "a1fc0bee",
   "metadata": {},
   "outputs": [],
   "source": [
    "import win32com.client\n",
    "import pandas as pd\n",
    "import numpy as np\n",
    "import shutil\n",
    "import os, sys\n",
    "import openpyxl \n",
    "import time\n",
    "from tqdm import tqdm\n",
    "from datetime import date, timedelta, datetime\n",
    "import google.cloud\n",
    "from google.cloud import bigquery\n",
    "import pyodbc\n",
    "from pandas.io import gbq\n",
    "import pandas_gbq\n",
    "\n",
    "os.environ[\"GOOGLE_APPLICATION_CREDENTIALS\"] = r\"\\\\vspmdhq-bi\\\\BI_Server_F\\\\BI_for_Reservations\\\\GCP Python credentials\\\\nh-gem.json\"\n",
    "\n",
    "def preparar_gbq(dataset):\n",
    "    Call = dataset.astype(str)\n",
    "    dictionary = {} \n",
    "    [dictionary.update({f'{i}':str}) for i in dataset.columns]\n",
    "    Call_db = Call.astype(dictionary)\n",
    "    return Call_db"
   ]
  },
  {
   "cell_type": "code",
   "execution_count": 2,
   "id": "bbb22f66",
   "metadata": {},
   "outputs": [
    {
     "name": "stdout",
     "output_type": "stream",
     "text": [
      "Actualizando Creators\n"
     ]
    },
    {
     "name": "stderr",
     "output_type": "stream",
     "text": [
      "c:\\Users\\ej.garcia\\AppData\\Local\\anaconda3\\Lib\\site-packages\\openpyxl\\styles\\stylesheet.py:226: UserWarning: Workbook contains no default style, apply openpyxl's default\n",
      "  warn(\"Workbook contains no default style, apply openpyxl's default\")\n",
      "100%|██████████| 1/1 [00:00<00:00, 174.62it/s]\n"
     ]
    },
    {
     "name": "stdout",
     "output_type": "stream",
     "text": [
      "Creators Actualizado\n",
      "Actualizando AH AGENCY\n"
     ]
    },
    {
     "name": "stderr",
     "output_type": "stream",
     "text": [
      "c:\\Users\\ej.garcia\\AppData\\Local\\anaconda3\\Lib\\site-packages\\openpyxl\\styles\\stylesheet.py:226: UserWarning: Workbook contains no default style, apply openpyxl's default\n",
      "  warn(\"Workbook contains no default style, apply openpyxl's default\")\n"
     ]
    },
    {
     "name": "stdout",
     "output_type": "stream",
     "text": [
      "AH Agency Actualizado\n",
      "CONECTANDO AL SQL SERVER\n",
      "Conectado a SQL SERVER\n",
      "Sacamos BOMT_Inputs\n"
     ]
    },
    {
     "name": "stderr",
     "output_type": "stream",
     "text": [
      "100%|██████████| 1/1 [00:00<?, ?it/s]"
     ]
    },
    {
     "name": "stdout",
     "output_type": "stream",
     "text": [
      "BOMT_Inputs Actualizado\n"
     ]
    },
    {
     "name": "stderr",
     "output_type": "stream",
     "text": [
      "\n"
     ]
    }
   ],
   "source": [
    "print('Actualizando Creators')\n",
    "creators = pd.read_excel(r'\\\\Spmdct-nas\\GCC\\DB\\Operational Reports\\BigQuery - R\\Scripts\\Python\\Maestros_Diarios\\CREATORS.xlsx').dropna()\n",
    "creators = creators.reset_index().iloc[:,1:]\n",
    "creators.columns = ['Code', 'Name']\n",
    "creators.Code = creators.Code.astype(float).astype(int).astype(str).str.zfill(10)\n",
    "Call_db = preparar_gbq(creators)\n",
    "client = bigquery.Client(project='nh-gem')\n",
    "table = client.dataset(\"Masters\").table(\"Creators\")\n",
    "job_config = bigquery.job.LoadJobConfig()\n",
    "job_config.write_disposition = bigquery.WriteDisposition.WRITE_TRUNCATE\n",
    "bigqueryJob = client.load_table_from_dataframe(Call_db, table, job_config=job_config)\n",
    "bigqueryJob.result()\n",
    "pandas_gbq.to_gbq(Call_db, destination_table='Masters.Creators',project_id='nh-gem', if_exists='replace')\n",
    "\n",
    "print('Creators Actualizado')\n",
    "\n",
    "print('Actualizando AH AGENCY')\n",
    "Account_Handlers = pd.read_excel(r'\\\\Spmdct-nas\\GCC\\DB\\Operational Reports\\BigQuery - R\\Scripts\\Python\\Maestros_Diarios\\BID_AH_AGENCIES.xlsx', engine='openpyxl')\n",
    "Account_Handlers.columns =  ['BF', 'Reservation_id', 'AH']\n",
    "Call_db = preparar_gbq(Account_Handlers)\n",
    "client = bigquery.Client(project='nh-gem')\n",
    "table = client.dataset(\"Masters\").table(\"Account_Handlers_Agencies\")\n",
    "job_config = bigquery.job.LoadJobConfig()\n",
    "job_config.write_disposition = bigquery.WriteDisposition.WRITE_TRUNCATE\n",
    "bigqueryJob = client.load_table_from_dataframe(Call_db, table, job_config=job_config)\n",
    "bigqueryJob.result()\n",
    "\n",
    "print('AH Agency Actualizado')\n",
    "\n",
    "\n",
    "print('CONECTANDO AL SQL SERVER') \n",
    "conn = pyodbc.connect(\"Driver={SQL Server};\"\n",
    "            \"Server=VSPMDHQ-BI2;\"\n",
    "            \"Database=Meetings;\"\n",
    "            \"Trusted_Connection=yes;\")\n",
    "cursor = conn.cursor()\n",
    "\n",
    "print('Conectado a SQL SERVER')\n",
    "\n",
    "print('Sacamos BOMT_Inputs')\n",
    "colnames2 = 'BF_ID, BF_GroupName, Observation_Day, Obs_Key, TRev_F_EUR, RS_ID, BF_Creator, BF_Creator_Center, BF_2Agent, xBF_Confirmation_Date, BF_Channel, xBF_MainCustomer, xBF_MainCustomer_Branch, BF_FollowUp, xBF_CRS, xBF_CRS_Branch, BF_ContactPerson, BF_ContactTelephone, BF_ContactEmail, BF_Remarks, BF_Arrival_Date, BF_Size, xBF_Status, RS_Status'\n",
    "colnames1 = 'BF_ID, BF_GroupName, Observation_Day, Obs_Key, sum(TRev_F_EUR) as TRev_F_EUR, RS_ID, BF_Creator, BF_Creator_Center, BF_2Agent, xBF_Confirmation_Date, BF_Channel, xBF_MainCustomer, xBF_MainCustomer_Branch, BF_FollowUp, xBF_CRS, xBF_CRS_Branch, BF_ContactPerson, BF_ContactTelephone, BF_ContactEmail, BF_Remarks, BF_Arrival_Date, BF_Size, xBF_Status, RS_Status'\n",
    "colnames = 'BF_ID, BF_GroupName, Observation_Day, Obs_Key, RS_ID, BF_Creator, BF_Creator_Center, BF_2Agent, xBF_Confirmation_Date, BF_Channel, xBF_MainCustomer, xBF_MainCustomer_Branch, BF_FollowUp, xBF_CRS, xBF_CRS_Branch, BF_ContactPerson, BF_ContactTelephone, BF_ContactEmail, BF_Remarks, BF_Arrival_Date, BF_Size, xBF_Status, RS_Status'\n",
    "sql = f\"select {colnames1} from BOMT_Inputs WHERE Obs_Key='TODAY' GROUP BY {colnames}\"\n",
    "cursor.execute(sql)\n",
    "colnames = [column[0] for column in cursor.description]\n",
    "raw_data = cursor.fetchall()\n",
    "BOMT_Inputs = pd.DataFrame(np.array(list(raw_data)), columns=colnames)\n",
    "names = BOMT_Inputs.columns.tolist()\n",
    "names[names.index('BF_ID')] = 'BF'\n",
    "BOMT_Inputs.columns = names\n",
    "\n",
    "Call_db = preparar_gbq(BOMT_Inputs)\n",
    "pandas_gbq.to_gbq(Call_db, destination_table='Masters.BOMT_Inputs',project_id='nh-gem', if_exists='replace')\n",
    "\n",
    "print('BOMT_Inputs Actualizado')"
   ]
  }
 ],
 "metadata": {
  "kernelspec": {
   "display_name": "base",
   "language": "python",
   "name": "python3"
  },
  "language_info": {
   "codemirror_mode": {
    "name": "ipython",
    "version": 3
   },
   "file_extension": ".py",
   "mimetype": "text/x-python",
   "name": "python",
   "nbconvert_exporter": "python",
   "pygments_lexer": "ipython3",
   "version": "3.11.7"
  }
 },
 "nbformat": 4,
 "nbformat_minor": 5
}
