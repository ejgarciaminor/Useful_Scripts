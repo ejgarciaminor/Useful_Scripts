{
 "cells": [
  {
   "cell_type": "code",
   "execution_count": null,
   "metadata": {},
   "outputs": [
    {
     "name": "stdout",
     "output_type": "stream",
     "text": [
      "19\n"
     ]
    },
    {
     "name": "stderr",
     "output_type": "stream",
     "text": [
      "c:\\Users\\ej.garcia\\AppData\\Local\\anaconda3\\Lib\\site-packages\\openpyxl\\styles\\stylesheet.py:226: UserWarning: Workbook contains no default style, apply openpyxl's default\n",
      "  warn(\"Workbook contains no default style, apply openpyxl's default\")\n"
     ]
    },
    {
     "name": "stdout",
     "output_type": "stream",
     "text": [
      "      RS_FECHA_RESERVA          US_RES_BY RO_Reservation_Done_by  conteo\n",
      "0  2025-08-19 00:00:00  ANASTASIA AMOROSO           E00000235499       1\n"
     ]
    },
    {
     "name": "stderr",
     "output_type": "stream",
     "text": [
      "100%|██████████| 1/1 [00:00<?, ?it/s]\n"
     ]
    }
   ],
   "source": [
    "## IMPORTAMOS LIBRERIAS ##\n",
    "from cmath import nan\n",
    "import pandas as pd\n",
    "from pandas.io import gbq\n",
    "from datetime import date, timedelta, datetime\n",
    "import pandas_gbq\n",
    "import ctypes\n",
    "import chardet\n",
    "import os\n",
    "\n",
    "def date_range(start, end):\n",
    "    delta = end - start \n",
    "    days = [(start + timedelta(days=i)).strftime('%d%m%Y') for i in range(delta. days + 1)]\n",
    "    days_with_format = [(start + timedelta(days=i)).strftime('%Y-%m-%d') for i in range(delta. days + 1)]\n",
    "    months = [(start + timedelta(days=i)).strftime('%m') for i in range(delta. days + 1)]\n",
    "    years = [(start + timedelta(days=i)).strftime('%Y') for i in range(delta. days + 1)]\n",
    "    return days, months, years, days_with_format\n",
    "\n",
    "agente = 'XEXTERN00225'\n",
    "## EN CASO DE QUERER AÑADIR RESERVA\n",
    "# reserva = '156369747'\n",
    "########################\n",
    "start_date = datetime(2025, 8, 19)\n",
    "end_date = datetime(2025,  8, 19)\n",
    "dias = date_range(start_date, end_date)\n",
    "\n",
    "## DEFINIMOS LISTA CON MESES PARA IR A LA UBICACION EXACTA Y CARGAMOS EL DIRECTORIO DE FILES ##\n",
    "meses = ['01. ENERO', '02. FEBRERO','03. MARZO','04. ABRIL','05. MAYO','06. JUNIO','07. JULIO','08. AGOSTO','09. SEPTIEMBRE','10. OCTUBRE','11. NOVIEMBRE','12. DICIEMBRE']\n",
    "datos = pd.DataFrame(columns=['RS_HOTEL', 'Hotel_Currency', 'RS_RESERVA',\n",
    "       'Status_Reservation_Origin_ID', 'RS_FECHA_RESERVA', 'RS_LLEGADA',\n",
    "       'RS_SALIDA', 'RS_TIPO_HAB', 'RO_Room_type_generic_upgrade',\n",
    "       'Flag_Room_Upgrade', 'RS_REGIMEN', 'RS_TARIFA', 'RS_MARKET_SEGMENT',\n",
    "       'RS_MARKET_SUBSEGMENT', 'RS_CANAL', 'RS_SUBCANAL',\n",
    "       'RO_Commercial_Subchannel', 'RS_CONTACTO', 'RS_MAIN_CUSTOMER',\n",
    "       'RS_COMPANY_ID', 'RS_CRS', 'RO_Reservation_Done_by', 'US_RES_BY',\n",
    "       'USER_GROUP', 'XBOOKING_FILE_ID', 'QUEUE_CRO', 'XRESERVA_GRP_ID',\n",
    "       'RO_Contact_person', 'Room_Nights', 'Room_Nights_Cancellation',\n",
    "       'Room_Nights_No_Show', 'Room_Nights_Ok', 'Total_Book_Revenue_FIN_EUR',\n",
    "       'Book_Room_Revenue_EUR', 'Book_Breakfast_Revenue_EUR',\n",
    "       'Cancelled_Book_Revenue_EUR', 'No_Show_Book_Revenue_EUR',\n",
    "       'Total_Other_Revenue_FIN_EUR_new', 'Total_Book_Revenue_FIN_LC',\n",
    "       'Book_Room_Revenue_LC', 'Book_Breakfast_Revenue_LC',\n",
    "       'Cancelled_Book_Revenue_LC', 'No_Show_Book_Revenue_LC',\n",
    "       'Total_Other_Revenue_FIN_LC_new', 'RO_Reservation_type',\n",
    "       'RO_Branch_Company_Responsible_TMS', 'RO_Guarantee_Category',\n",
    "       'Creation_Time_Origin', 'Creation_Date_Origin_CET',\n",
    "       'Creation_Time_Origin_CET'])\n",
    "\n",
    "for i in range(len(dias[3])):\n",
    "    load_day =      int(dias[3][i][-2:])\n",
    "    load_month =    dias[1][i]\n",
    "    load_year =     dias[2][i]\n",
    "\n",
    "    files = os.listdir(fr\"V:\\Central reservations office\\Area-3\\SOPORTE OPERACIONES\\\\01. INFORMES DIARIOS\\\\{load_year}\\\\{meses[int(load_month)-1]} {load_year}\\\\{load_day}\")\n",
    "    print(load_day)\n",
    "    for file in files: \n",
    "        if file[:7]=='CRO_TMS':\n",
    "            file2 = fr\"V:\\Central reservations office\\Area-3\\SOPORTE OPERACIONES\\\\01. INFORMES DIARIOS\\\\{load_year}\\\\{meses[int(load_month)-1]} {load_year}\\\\{load_day}\\\\{file}\"\n",
    "            TMS = pd.read_excel(file2,dtype=str).replace(['NaN','None','NaT',' ','nan',nan],[None,None,None,None,None,None]).rename(columns={'Hotel Currency':'Hotel_Currency',\n",
    "                                                                                                                                                    'Status Reservation Origin ID':'Status_Reservation_Origin_ID',\n",
    "                                                                                                                                                    'RO Room type generic (upgrade)':'RO_Room_type_generic_upgrade',\n",
    "                                                                                                                                                    'RO Commercial Subchannel':'RO_Commercial_Subchannel',\n",
    "                                                                                                                                                    'RO Reservation Done By':'RO_Reservation_Done_by',\n",
    "                                                                                                                                                    'RO Contact person':'RO_Contact_person',\n",
    "                                                                                                                                                    'Room Nights':'Room_Nights',\n",
    "                                                                                                                                                    'Room Nights CXL':'Room_Nights_Cancellation',\n",
    "                                                                                                                                                    'Room Nights No Show':'Room_Nights_No_Show',\n",
    "                                                                                                                                                    'Room Nights OK':'Room_Nights_Ok',\n",
    "                                                                                                                                                    'Total Book Revenue FIN EUR':'Total_Book_Revenue_FIN_EUR',\n",
    "                                                                                                                                                    'Book Room Revenue EUR':'Book_Room_Revenue_EUR',\n",
    "                                                                                                                                                    'Book Breakfast Revenue EUR':'Book_Breakfast_Revenue_EUR',\n",
    "                                                                                                                                                    'Cancelled Book Revenue EUR':'Cancelled_Book_Revenue_EUR',\n",
    "                                                                                                                                                    'No Show Book Revenue EUR':'No_Show_Book_Revenue_EUR',\n",
    "                                                                                                                                                    'Total Other Revenue FIN EUR (new)':'Total_Other_Revenue_FIN_EUR_new',\n",
    "                                                                                                                                                    'Total Book Revenue FIN LC':'Total_Book_Revenue_FIN_LC',\n",
    "                                                                                                                                                    'Book Room Revenue LC':'Book_Room_Revenue_LC',\n",
    "                                                                                                                                                    'Book Breakfast Revenue LC':'Book_Breakfast_Revenue_LC',\n",
    "                                                                                                                                                    'Cancelled Book Revenue LC':'Cancelled_Book_Revenue_LC',\n",
    "                                                                                                                                                    'No Show Book Revenue LC':'No_Show_Book_Revenue_LC',\n",
    "                                                                                                                                                    'Total Other Revenue FIN LC (new)':'Total_Other_Revenue_FIN_LC_new',\n",
    "                                                                                                                                                    'RO Reservation type':'RO_Reservation_type',\n",
    "                                                                                                                                                    'RO Branch Company Responsible TMS':'RO_Branch_Company_Responsible_TMS',\n",
    "                                                                                                                                                    'RO Guarantee Category':'RO_Guarantee_Category',\n",
    "                                                                                                                                                    'Creation Time Origin':'Creation_Time_Origin',\n",
    "                                                                                                                                                    'Creation Date Origin CET':'Creation_Date_Origin_CET',\n",
    "                                                                                                                                                    'Creation Time Origin CET':'Creation_Time_Origin_CET'})\n",
    "            ## EN CASO DE QUERER AÑADIR RESERVA\n",
    "            # TMS = TMS[TMS['RS_RESERVA']==reserva]\n",
    "            #####################################\n",
    "            TMS['RS_RESERVA'] = TMS['RS_RESERVA'].astype(float).astype(int)\n",
    "            TMS = TMS.astype(str)\n",
    "            TMS.replace(['NaN','None','NaT',' ','nan',nan],[None,None,None,None,None,None], inplace=True)\n",
    "            TMS = TMS[TMS['RO_Reservation_Done_by']==agente]\n",
    "            datos = datos.append(TMS)\n",
    "            datos = pd.concat([datos,TMS],ignore_index=True)\n",
    "\n",
    "print(datos.groupby(['RS_FECHA_RESERVA', 'US_RES_BY', 'RO_Reservation_Done_by']).size().reset_index(name='conteo'))\n",
    "\n",
    "datos.to_gbq(destination_table='TMS.b_Reservation_entry_data_raw_temporal',project_id='nh-cro-forecast',if_exists='replace')\n"
   ]
  },
  {
   "cell_type": "code",
   "execution_count": 26,
   "metadata": {},
   "outputs": [
    {
     "data": {
      "text/plain": [
       "Series([], Name: RS_RESERVA, dtype: object)"
      ]
     },
     "execution_count": 26,
     "metadata": {},
     "output_type": "execute_result"
    }
   ],
   "source": [
    "datos['RS_RESERVA']"
   ]
  },
  {
   "cell_type": "code",
   "execution_count": 27,
   "metadata": {},
   "outputs": [
    {
     "name": "stdout",
     "output_type": "stream",
     "text": [
      "<class 'pandas.core.frame.DataFrame'>\n",
      "RangeIndex: 0 entries\n",
      "Data columns (total 50 columns):\n",
      " #   Column                             Non-Null Count  Dtype \n",
      "---  ------                             --------------  ----- \n",
      " 0   RS_HOTEL                           0 non-null      object\n",
      " 1   Hotel_Currency                     0 non-null      object\n",
      " 2   RS_RESERVA                         0 non-null      object\n",
      " 3   Status_Reservation_Origin_ID       0 non-null      object\n",
      " 4   RS_FECHA_RESERVA                   0 non-null      object\n",
      " 5   RS_LLEGADA                         0 non-null      object\n",
      " 6   RS_SALIDA                          0 non-null      object\n",
      " 7   RS_TIPO_HAB                        0 non-null      object\n",
      " 8   RO_Room_type_generic_upgrade       0 non-null      object\n",
      " 9   Flag_Room_Upgrade                  0 non-null      object\n",
      " 10  RS_REGIMEN                         0 non-null      object\n",
      " 11  RS_TARIFA                          0 non-null      object\n",
      " 12  RS_MARKET_SEGMENT                  0 non-null      object\n",
      " 13  RS_MARKET_SUBSEGMENT               0 non-null      object\n",
      " 14  RS_CANAL                           0 non-null      object\n",
      " 15  RS_SUBCANAL                        0 non-null      object\n",
      " 16  RO_Commercial_Subchannel           0 non-null      object\n",
      " 17  RS_CONTACTO                        0 non-null      object\n",
      " 18  RS_MAIN_CUSTOMER                   0 non-null      object\n",
      " 19  RS_COMPANY_ID                      0 non-null      object\n",
      " 20  RS_CRS                             0 non-null      object\n",
      " 21  RO_Reservation_Done_by             0 non-null      object\n",
      " 22  US_RES_BY                          0 non-null      object\n",
      " 23  USER_GROUP                         0 non-null      object\n",
      " 24  XBOOKING_FILE_ID                   0 non-null      object\n",
      " 25  QUEUE_CRO                          0 non-null      object\n",
      " 26  XRESERVA_GRP_ID                    0 non-null      object\n",
      " 27  RO_Contact_person                  0 non-null      object\n",
      " 28  Room_Nights                        0 non-null      object\n",
      " 29  Room_Nights_Cancellation           0 non-null      object\n",
      " 30  Room_Nights_No_Show                0 non-null      object\n",
      " 31  Room_Nights_Ok                     0 non-null      object\n",
      " 32  Total_Book_Revenue_FIN_EUR         0 non-null      object\n",
      " 33  Book_Room_Revenue_EUR              0 non-null      object\n",
      " 34  Book_Breakfast_Revenue_EUR         0 non-null      object\n",
      " 35  Cancelled_Book_Revenue_EUR         0 non-null      object\n",
      " 36  No_Show_Book_Revenue_EUR           0 non-null      object\n",
      " 37  Total_Other_Revenue_FIN_EUR_new    0 non-null      object\n",
      " 38  Total_Book_Revenue_FIN_LC          0 non-null      object\n",
      " 39  Book_Room_Revenue_LC               0 non-null      object\n",
      " 40  Book_Breakfast_Revenue_LC          0 non-null      object\n",
      " 41  Cancelled_Book_Revenue_LC          0 non-null      object\n",
      " 42  No_Show_Book_Revenue_LC            0 non-null      object\n",
      " 43  Total_Other_Revenue_FIN_LC_new     0 non-null      object\n",
      " 44  RO_Reservation_type                0 non-null      object\n",
      " 45  RO_Branch_Company_Responsible_TMS  0 non-null      object\n",
      " 46  RO_Guarantee_Category              0 non-null      object\n",
      " 47  Creation_Time_Origin               0 non-null      object\n",
      " 48  Creation_Date_Origin_CET           0 non-null      object\n",
      " 49  Creation_Time_Origin_CET           0 non-null      object\n",
      "dtypes: object(50)\n",
      "memory usage: 132.0+ bytes\n"
     ]
    }
   ],
   "source": [
    "datos.info()"
   ]
  },
  {
   "cell_type": "code",
   "execution_count": 8,
   "metadata": {},
   "outputs": [
    {
     "data": {
      "text/plain": [
       "Index(['RS_HOTEL', 'Hotel_Currency', 'RS_RESERVA',\n",
       "       'Status_Reservation_Origin_ID', 'RS_FECHA_RESERVA', 'RS_LLEGADA',\n",
       "       'RS_SALIDA', 'RS_TIPO_HAB', 'RO_Room_type_generic_upgrade',\n",
       "       'Flag_Room_Upgrade', 'RS_REGIMEN', 'RS_TARIFA', 'RS_MARKET_SEGMENT',\n",
       "       'RS_MARKET_SUBSEGMENT', 'RS_CANAL', 'RS_SUBCANAL',\n",
       "       'RO_Commercial_Subchannel', 'RS_CONTACTO', 'RS_MAIN_CUSTOMER',\n",
       "       'RS_COMPANY_ID', 'RS_CRS', 'RO_Reservation_Done_by', 'US_RES_BY',\n",
       "       'USER_GROUP', 'XBOOKING_FILE_ID', 'QUEUE_CRO', 'XRESERVA_GRP_ID',\n",
       "       'RO_Contact_person', 'Room_Nights', 'Room_Nights_Cancellation',\n",
       "       'Room_Nights_No_Show', 'Room_Nights_Ok', 'Total_Book_Revenue_FIN_EUR',\n",
       "       'Book_Room_Revenue_EUR', 'Book_Breakfast_Revenue_EUR',\n",
       "       'Cancelled_Book_Revenue_EUR', 'No_Show_Book_Revenue_EUR',\n",
       "       'Total_Other_Revenue_FIN_EUR_new', 'Total_Book_Revenue_FIN_LC',\n",
       "       'Book_Room_Revenue_LC', 'Book_Breakfast_Revenue_LC',\n",
       "       'Cancelled_Book_Revenue_LC', 'No_Show_Book_Revenue_LC',\n",
       "       'Total_Other_Revenue_FIN_LC_new', 'RO_Reservation_type',\n",
       "       'RO_Branch_Company_Responsible_TMS', 'RO_Guarantee_Category',\n",
       "       'Creation_Time_Origin', 'Creation_Date_Origin_CET',\n",
       "       'Creation_Time_Origin_CET'],\n",
       "      dtype='object')"
      ]
     },
     "execution_count": 8,
     "metadata": {},
     "output_type": "execute_result"
    }
   ],
   "source": [
    "datos.columns"
   ]
  },
  {
   "cell_type": "code",
   "execution_count": 20,
   "metadata": {},
   "outputs": [
    {
     "data": {
      "text/html": [
       "<div>\n",
       "<style scoped>\n",
       "    .dataframe tbody tr th:only-of-type {\n",
       "        vertical-align: middle;\n",
       "    }\n",
       "\n",
       "    .dataframe tbody tr th {\n",
       "        vertical-align: top;\n",
       "    }\n",
       "\n",
       "    .dataframe thead th {\n",
       "        text-align: right;\n",
       "    }\n",
       "</style>\n",
       "<table border=\"1\" class=\"dataframe\">\n",
       "  <thead>\n",
       "    <tr style=\"text-align: right;\">\n",
       "      <th></th>\n",
       "      <th>RS_FECHA_RESERVA</th>\n",
       "      <th>US_RES_BY</th>\n",
       "      <th>RO_Reservation_Done_by</th>\n",
       "      <th>conteo</th>\n",
       "    </tr>\n",
       "  </thead>\n",
       "  <tbody>\n",
       "    <tr>\n",
       "      <th>0</th>\n",
       "      <td>2025-09-22 00:00:00</td>\n",
       "      <td>Castro Sofia</td>\n",
       "      <td>XTEMPO000135</td>\n",
       "      <td>9</td>\n",
       "    </tr>\n",
       "    <tr>\n",
       "      <th>1</th>\n",
       "      <td>2025-09-23 00:00:00</td>\n",
       "      <td>Castro Sofia</td>\n",
       "      <td>XTEMPO000135</td>\n",
       "      <td>19</td>\n",
       "    </tr>\n",
       "    <tr>\n",
       "      <th>2</th>\n",
       "      <td>2025-09-24 00:00:00</td>\n",
       "      <td>Castro Sofia</td>\n",
       "      <td>XTEMPO000135</td>\n",
       "      <td>29</td>\n",
       "    </tr>\n",
       "  </tbody>\n",
       "</table>\n",
       "</div>"
      ],
      "text/plain": [
       "      RS_FECHA_RESERVA     US_RES_BY RO_Reservation_Done_by  conteo\n",
       "0  2025-09-22 00:00:00  Castro Sofia           XTEMPO000135       9\n",
       "1  2025-09-23 00:00:00  Castro Sofia           XTEMPO000135      19\n",
       "2  2025-09-24 00:00:00  Castro Sofia           XTEMPO000135      29"
      ]
     },
     "execution_count": 20,
     "metadata": {},
     "output_type": "execute_result"
    }
   ],
   "source": [
    "datos.groupby(['RS_FECHA_RESERVA', 'US_RES_BY', 'RO_Reservation_Done_by']).size().reset_index(name='conteo')"
   ]
  }
 ],
 "metadata": {
  "kernelspec": {
   "display_name": "base",
   "language": "python",
   "name": "python3"
  },
  "language_info": {
   "codemirror_mode": {
    "name": "ipython",
    "version": 3
   },
   "file_extension": ".py",
   "mimetype": "text/x-python",
   "name": "python",
   "nbconvert_exporter": "python",
   "pygments_lexer": "ipython3",
   "version": "3.11.7"
  }
 },
 "nbformat": 4,
 "nbformat_minor": 2
}
