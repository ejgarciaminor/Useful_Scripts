{
 "cells": [
  {
   "cell_type": "code",
   "execution_count": 37,
   "id": "841d3174",
   "metadata": {},
   "outputs": [
    {
     "name": "stdout",
     "output_type": "stream",
     "text": [
      "Index(['Conteo_BF', 'Creation date', 'Observation date'], dtype='object')\n",
      "Index(['Conteo_BF', 'Creation date', 'Observation date'], dtype='object')\n",
      "Index(['Conteo_BF', 'Creation date', 'Observation date'], dtype='object')\n",
      "Index(['Conteo_BF', 'Creation date', 'Observation date'], dtype='object')\n",
      "Index(['Conteo_BF', 'Creation date', 'Observation date'], dtype='object')\n",
      "Index(['Conteo_BF', 'Creation date', 'Observation date'], dtype='object')\n",
      "Index(['Conteo_BF', 'Creation date', 'Observation date'], dtype='object')\n",
      "Index(['Conteo_BF', 'Creation date', 'Observation date'], dtype='object')\n"
     ]
    },
    {
     "name": "stderr",
     "output_type": "stream",
     "text": [
      "c:\\Users\\ej.garcia\\AppData\\Local\\anaconda3\\Lib\\site-packages\\openpyxl\\styles\\stylesheet.py:226: UserWarning: Workbook contains no default style, apply openpyxl's default\n",
      "  warn(\"Workbook contains no default style, apply openpyxl's default\")\n",
      "c:\\Users\\ej.garcia\\AppData\\Local\\anaconda3\\Lib\\site-packages\\openpyxl\\styles\\stylesheet.py:226: UserWarning: Workbook contains no default style, apply openpyxl's default\n",
      "  warn(\"Workbook contains no default style, apply openpyxl's default\")\n",
      "c:\\Users\\ej.garcia\\AppData\\Local\\anaconda3\\Lib\\site-packages\\openpyxl\\styles\\stylesheet.py:226: UserWarning: Workbook contains no default style, apply openpyxl's default\n",
      "  warn(\"Workbook contains no default style, apply openpyxl's default\")\n",
      "c:\\Users\\ej.garcia\\AppData\\Local\\anaconda3\\Lib\\site-packages\\openpyxl\\styles\\stylesheet.py:226: UserWarning: Workbook contains no default style, apply openpyxl's default\n",
      "  warn(\"Workbook contains no default style, apply openpyxl's default\")\n",
      "c:\\Users\\ej.garcia\\AppData\\Local\\anaconda3\\Lib\\site-packages\\openpyxl\\styles\\stylesheet.py:226: UserWarning: Workbook contains no default style, apply openpyxl's default\n",
      "  warn(\"Workbook contains no default style, apply openpyxl's default\")\n",
      "c:\\Users\\ej.garcia\\AppData\\Local\\anaconda3\\Lib\\site-packages\\openpyxl\\styles\\stylesheet.py:226: UserWarning: Workbook contains no default style, apply openpyxl's default\n",
      "  warn(\"Workbook contains no default style, apply openpyxl's default\")\n",
      "c:\\Users\\ej.garcia\\AppData\\Local\\anaconda3\\Lib\\site-packages\\openpyxl\\styles\\stylesheet.py:226: UserWarning: Workbook contains no default style, apply openpyxl's default\n",
      "  warn(\"Workbook contains no default style, apply openpyxl's default\")\n",
      "c:\\Users\\ej.garcia\\AppData\\Local\\anaconda3\\Lib\\site-packages\\openpyxl\\styles\\stylesheet.py:226: UserWarning: Workbook contains no default style, apply openpyxl's default\n",
      "  warn(\"Workbook contains no default style, apply openpyxl's default\")\n",
      "c:\\Users\\ej.garcia\\AppData\\Local\\anaconda3\\Lib\\site-packages\\openpyxl\\styles\\stylesheet.py:226: UserWarning: Workbook contains no default style, apply openpyxl's default\n",
      "  warn(\"Workbook contains no default style, apply openpyxl's default\")\n"
     ]
    },
    {
     "name": "stdout",
     "output_type": "stream",
     "text": [
      "Index(['Conteo_BF', 'Creation date', 'Observation date'], dtype='object')\n",
      "Index(['Conteo_BF', 'Creation date', 'Observation date'], dtype='object')\n",
      "Index(['Conteo_BF', 'Creation date', 'Observation date'], dtype='object')\n",
      "Index(['Conteo_BF', 'Creation date', 'Observation date'], dtype='object')\n",
      "Index(['Conteo_BF', 'Creation date', 'Observation date'], dtype='object')\n"
     ]
    },
    {
     "name": "stderr",
     "output_type": "stream",
     "text": [
      "c:\\Users\\ej.garcia\\AppData\\Local\\anaconda3\\Lib\\site-packages\\openpyxl\\styles\\stylesheet.py:226: UserWarning: Workbook contains no default style, apply openpyxl's default\n",
      "  warn(\"Workbook contains no default style, apply openpyxl's default\")\n",
      "c:\\Users\\ej.garcia\\AppData\\Local\\anaconda3\\Lib\\site-packages\\openpyxl\\styles\\stylesheet.py:226: UserWarning: Workbook contains no default style, apply openpyxl's default\n",
      "  warn(\"Workbook contains no default style, apply openpyxl's default\")\n"
     ]
    }
   ],
   "source": [
    "import os\n",
    "import pandas as pd\n",
    "\n",
    "directorio = r'C:\\Users\\ej.garcia\\OneDrive - Minor Hotels Europe & Americas\\Business Intelligence\\Operational Excellence Analytics\\Contact Center\\4. Ad-hoc_Analysis\\0. Meetings_Data_Incidence\\0.Data\\0.Creations'\n",
    "\n",
    "datos_final = pd.DataFrame()\n",
    "\n",
    "for file in os.listdir(directorio):\n",
    "    if file.startswith('Conteo'):\n",
    "        ruta = os.path.join(directorio, file)\n",
    "        \n",
    "        df = pd.read_excel(ruta, skiprows=2, header=1, index_col=False)\n",
    "        df = df.iloc[:, 1:]\n",
    "        print(df.columns)\n",
    "        datos_final = pd.concat([datos_final, df], ignore_index=True)\n",
    "    else:\n",
    "        next"
   ]
  },
  {
   "cell_type": "code",
   "execution_count": 38,
   "id": "ae14dafc",
   "metadata": {},
   "outputs": [
    {
     "data": {
      "text/html": [
       "<div>\n",
       "<style scoped>\n",
       "    .dataframe tbody tr th:only-of-type {\n",
       "        vertical-align: middle;\n",
       "    }\n",
       "\n",
       "    .dataframe tbody tr th {\n",
       "        vertical-align: top;\n",
       "    }\n",
       "\n",
       "    .dataframe thead th {\n",
       "        text-align: right;\n",
       "    }\n",
       "</style>\n",
       "<table border=\"1\" class=\"dataframe\">\n",
       "  <thead>\n",
       "    <tr style=\"text-align: right;\">\n",
       "      <th></th>\n",
       "      <th>Conteo_BF</th>\n",
       "      <th>Creation date</th>\n",
       "      <th>Observation date</th>\n",
       "    </tr>\n",
       "  </thead>\n",
       "  <tbody>\n",
       "    <tr>\n",
       "      <th>0</th>\n",
       "      <td>29</td>\n",
       "      <td>2025-06-01</td>\n",
       "      <td>2025-06-02</td>\n",
       "    </tr>\n",
       "    <tr>\n",
       "      <th>1</th>\n",
       "      <td>29</td>\n",
       "      <td>2025-06-01</td>\n",
       "      <td>2025-06-03</td>\n",
       "    </tr>\n",
       "    <tr>\n",
       "      <th>2</th>\n",
       "      <td>29</td>\n",
       "      <td>2025-06-01</td>\n",
       "      <td>2025-06-04</td>\n",
       "    </tr>\n",
       "    <tr>\n",
       "      <th>3</th>\n",
       "      <td>64</td>\n",
       "      <td>2025-06-02</td>\n",
       "      <td>2025-06-02</td>\n",
       "    </tr>\n",
       "    <tr>\n",
       "      <th>4</th>\n",
       "      <td>1222</td>\n",
       "      <td>2025-06-02</td>\n",
       "      <td>2025-06-03</td>\n",
       "    </tr>\n",
       "  </tbody>\n",
       "</table>\n",
       "</div>"
      ],
      "text/plain": [
       "   Conteo_BF Creation date Observation date\n",
       "0         29    2025-06-01       2025-06-02\n",
       "1         29    2025-06-01       2025-06-03\n",
       "2         29    2025-06-01       2025-06-04\n",
       "3         64    2025-06-02       2025-06-02\n",
       "4       1222    2025-06-02       2025-06-03"
      ]
     },
     "execution_count": 38,
     "metadata": {},
     "output_type": "execute_result"
    }
   ],
   "source": [
    "datos_final.head()"
   ]
  },
  {
   "cell_type": "code",
   "execution_count": 31,
   "id": "5aa84dd6",
   "metadata": {},
   "outputs": [],
   "source": [
    "datos_final = datos_final.rename(columns={'Booking File ID':'Conteo_BF'})"
   ]
  },
  {
   "cell_type": "code",
   "execution_count": 32,
   "id": "b1a97a0e",
   "metadata": {},
   "outputs": [
    {
     "data": {
      "text/html": [
       "<div>\n",
       "<style scoped>\n",
       "    .dataframe tbody tr th:only-of-type {\n",
       "        vertical-align: middle;\n",
       "    }\n",
       "\n",
       "    .dataframe tbody tr th {\n",
       "        vertical-align: top;\n",
       "    }\n",
       "\n",
       "    .dataframe thead th {\n",
       "        text-align: right;\n",
       "    }\n",
       "</style>\n",
       "<table border=\"1\" class=\"dataframe\">\n",
       "  <thead>\n",
       "    <tr style=\"text-align: right;\">\n",
       "      <th></th>\n",
       "      <th>Conteo_BF</th>\n",
       "      <th>Last change date of BF</th>\n",
       "      <th>Observation date</th>\n",
       "    </tr>\n",
       "  </thead>\n",
       "  <tbody>\n",
       "    <tr>\n",
       "      <th>0</th>\n",
       "      <td>327</td>\n",
       "      <td>2025-03-09</td>\n",
       "      <td>2025-03-10</td>\n",
       "    </tr>\n",
       "    <tr>\n",
       "      <th>1</th>\n",
       "      <td>402</td>\n",
       "      <td>2025-03-09</td>\n",
       "      <td>2025-03-11</td>\n",
       "    </tr>\n",
       "    <tr>\n",
       "      <th>2</th>\n",
       "      <td>330</td>\n",
       "      <td>2025-03-09</td>\n",
       "      <td>2025-03-12</td>\n",
       "    </tr>\n",
       "    <tr>\n",
       "      <th>3</th>\n",
       "      <td>297</td>\n",
       "      <td>2025-03-09</td>\n",
       "      <td>2025-03-13</td>\n",
       "    </tr>\n",
       "    <tr>\n",
       "      <th>4</th>\n",
       "      <td>266</td>\n",
       "      <td>2025-03-09</td>\n",
       "      <td>2025-03-14</td>\n",
       "    </tr>\n",
       "  </tbody>\n",
       "</table>\n",
       "</div>"
      ],
      "text/plain": [
       "   Conteo_BF Last change date of BF Observation date\n",
       "0        327             2025-03-09       2025-03-10\n",
       "1        402             2025-03-09       2025-03-11\n",
       "2        330             2025-03-09       2025-03-12\n",
       "3        297             2025-03-09       2025-03-13\n",
       "4        266             2025-03-09       2025-03-14"
      ]
     },
     "execution_count": 32,
     "metadata": {},
     "output_type": "execute_result"
    }
   ],
   "source": [
    "datos_final.head()"
   ]
  },
  {
   "cell_type": "code",
   "execution_count": 39,
   "id": "8ce71290",
   "metadata": {},
   "outputs": [
    {
     "name": "stdout",
     "output_type": "stream",
     "text": [
      "<class 'pandas.core.frame.DataFrame'>\n",
      "RangeIndex: 4645 entries, 0 to 4644\n",
      "Data columns (total 3 columns):\n",
      " #   Column            Non-Null Count  Dtype         \n",
      "---  ------            --------------  -----         \n",
      " 0   Conteo_BF         4645 non-null   int64         \n",
      " 1   Creation date     4645 non-null   datetime64[ns]\n",
      " 2   Observation date  4645 non-null   datetime64[ns]\n",
      "dtypes: datetime64[ns](2), int64(1)\n",
      "memory usage: 109.0 KB\n"
     ]
    }
   ],
   "source": [
    "datos_final.info()"
   ]
  },
  {
   "cell_type": "code",
   "execution_count": 40,
   "id": "cbaa8e91",
   "metadata": {},
   "outputs": [],
   "source": [
    "datos_final['Creation date'] = datos_final['Creation date'].astype(str)\n",
    "datos_final['Observation date'] = datos_final['Observation date'].astype(str)"
   ]
  },
  {
   "cell_type": "code",
   "execution_count": 41,
   "id": "5a5d6525",
   "metadata": {},
   "outputs": [
    {
     "data": {
      "text/html": [
       "<div>\n",
       "<style scoped>\n",
       "    .dataframe tbody tr th:only-of-type {\n",
       "        vertical-align: middle;\n",
       "    }\n",
       "\n",
       "    .dataframe tbody tr th {\n",
       "        vertical-align: top;\n",
       "    }\n",
       "\n",
       "    .dataframe thead th {\n",
       "        text-align: right;\n",
       "    }\n",
       "</style>\n",
       "<table border=\"1\" class=\"dataframe\">\n",
       "  <thead>\n",
       "    <tr style=\"text-align: right;\">\n",
       "      <th></th>\n",
       "      <th>Conteo_BF</th>\n",
       "      <th>Creation date</th>\n",
       "      <th>Observation date</th>\n",
       "    </tr>\n",
       "  </thead>\n",
       "  <tbody>\n",
       "    <tr>\n",
       "      <th>0</th>\n",
       "      <td>29</td>\n",
       "      <td>2025-06-01</td>\n",
       "      <td>2025-06-02</td>\n",
       "    </tr>\n",
       "    <tr>\n",
       "      <th>1</th>\n",
       "      <td>29</td>\n",
       "      <td>2025-06-01</td>\n",
       "      <td>2025-06-03</td>\n",
       "    </tr>\n",
       "    <tr>\n",
       "      <th>2</th>\n",
       "      <td>29</td>\n",
       "      <td>2025-06-01</td>\n",
       "      <td>2025-06-04</td>\n",
       "    </tr>\n",
       "    <tr>\n",
       "      <th>3</th>\n",
       "      <td>64</td>\n",
       "      <td>2025-06-02</td>\n",
       "      <td>2025-06-02</td>\n",
       "    </tr>\n",
       "    <tr>\n",
       "      <th>4</th>\n",
       "      <td>1222</td>\n",
       "      <td>2025-06-02</td>\n",
       "      <td>2025-06-03</td>\n",
       "    </tr>\n",
       "    <tr>\n",
       "      <th>...</th>\n",
       "      <td>...</td>\n",
       "      <td>...</td>\n",
       "      <td>...</td>\n",
       "    </tr>\n",
       "    <tr>\n",
       "      <th>4640</th>\n",
       "      <td>5</td>\n",
       "      <td>2025-05-31</td>\n",
       "      <td>2025-05-31</td>\n",
       "    </tr>\n",
       "    <tr>\n",
       "      <th>4641</th>\n",
       "      <td>76</td>\n",
       "      <td>2025-05-31</td>\n",
       "      <td>2025-06-01</td>\n",
       "    </tr>\n",
       "    <tr>\n",
       "      <th>4642</th>\n",
       "      <td>76</td>\n",
       "      <td>2025-05-31</td>\n",
       "      <td>2025-06-02</td>\n",
       "    </tr>\n",
       "    <tr>\n",
       "      <th>4643</th>\n",
       "      <td>76</td>\n",
       "      <td>2025-05-31</td>\n",
       "      <td>2025-06-03</td>\n",
       "    </tr>\n",
       "    <tr>\n",
       "      <th>4644</th>\n",
       "      <td>76</td>\n",
       "      <td>2025-05-31</td>\n",
       "      <td>2025-06-04</td>\n",
       "    </tr>\n",
       "  </tbody>\n",
       "</table>\n",
       "<p>4645 rows × 3 columns</p>\n",
       "</div>"
      ],
      "text/plain": [
       "      Conteo_BF Creation date Observation date\n",
       "0            29    2025-06-01       2025-06-02\n",
       "1            29    2025-06-01       2025-06-03\n",
       "2            29    2025-06-01       2025-06-04\n",
       "3            64    2025-06-02       2025-06-02\n",
       "4          1222    2025-06-02       2025-06-03\n",
       "...         ...           ...              ...\n",
       "4640          5    2025-05-31       2025-05-31\n",
       "4641         76    2025-05-31       2025-06-01\n",
       "4642         76    2025-05-31       2025-06-02\n",
       "4643         76    2025-05-31       2025-06-03\n",
       "4644         76    2025-05-31       2025-06-04\n",
       "\n",
       "[4645 rows x 3 columns]"
      ]
     },
     "execution_count": 41,
     "metadata": {},
     "output_type": "execute_result"
    }
   ],
   "source": [
    "datos_final"
   ]
  },
  {
   "cell_type": "code",
   "execution_count": 42,
   "id": "312a4537",
   "metadata": {},
   "outputs": [],
   "source": [
    "datos_final.to_excel(r'C:\\Users\\ej.garcia\\OneDrive - Minor Hotels Europe & Americas\\Business Intelligence\\Operational Excellence Analytics\\Contact Center\\4. Ad-hoc_Analysis\\0. Meetings_Data_Incidence\\0.Data\\\\Creations.xlsx')"
   ]
  }
 ],
 "metadata": {
  "kernelspec": {
   "display_name": "base",
   "language": "python",
   "name": "python3"
  },
  "language_info": {
   "codemirror_mode": {
    "name": "ipython",
    "version": 3
   },
   "file_extension": ".py",
   "mimetype": "text/x-python",
   "name": "python",
   "nbconvert_exporter": "python",
   "pygments_lexer": "ipython3",
   "version": "3.11.7"
  }
 },
 "nbformat": 4,
 "nbformat_minor": 5
}
