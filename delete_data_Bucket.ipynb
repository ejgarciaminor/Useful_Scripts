{
 "cells": [
  {
   "cell_type": "code",
   "execution_count": null,
   "id": "45085268",
   "metadata": {},
   "outputs": [],
   "source": [
    "##librerias\n",
    "import win32com.client\n",
    "import pandas as pd\n",
    "import numpy as np\n",
    "import shutil\n",
    "import os, sys\n",
    "import openpyxl \n",
    "import time\n",
    "from tqdm import tqdm\n",
    "from datetime import date, timedelta, datetime, timezone\n",
    "import google.cloud\n",
    "from google.cloud import bigquery, storage\n",
    "import time\n",
    "import pyodbc\n",
    "from pandas.io import gbq\n",
    "import logging\n",
    "import warnings\n",
    "warnings.filterwarnings(\"ignore\")\n",
    "\n",
    "\n",
    "def delete_files_before_date(bucket_name, cutoff_date_str,credentials_path): # Cutoff_date_str: hasta que fecha quieres borrar. Borrará desde esa fecha hacia atrás\n",
    "    storage_client = storage.Client.from_service_account_json(credentials_path)\n",
    "    bucket = storage_client.bucket(bucket_name)\n",
    "    \n",
    "\n",
    "    cutoff_date = datetime.strptime(cutoff_date_str, \"%Y-%m-%d\").replace(tzinfo=timezone.utc)\n",
    "\n",
    "    blobs = bucket.list_blobs() #Aquí listamos todos los archivos del bucket\n",
    "    deleted_count = 0\n",
    "\n",
    "    for blob in blobs:\n",
    "        if blob.time_created < cutoff_date: #Borraremos todos aquellos archivos anteriores a la fecha Cutoff establecida\n",
    "            print(f\"Deleting: {blob.name} (created: {blob.time_created})\")\n",
    "            blob.delete()\n",
    "            deleted_count += 1\n",
    "\n",
    "    print(f\"Deleted {deleted_count} files created before {cutoff_date_str}.\")\n",
    "\n",
    "# Ejemplo de uso\n",
    "path='F://Data_Governance//Meetings to GCP'\n",
    "delete_files_before_date(\"miceview_hotels\", \"2025-06-30\",f\"{path}\\\\credentials\\\\nh-ops.json\")"
   ]
  }
 ],
 "metadata": {
  "kernelspec": {
   "display_name": "base",
   "language": "python",
   "name": "python3"
  },
  "language_info": {
   "name": "python",
   "version": "3.11.7"
  }
 },
 "nbformat": 4,
 "nbformat_minor": 5
}
