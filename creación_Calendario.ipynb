{
 "cells": [
  {
   "cell_type": "code",
   "execution_count": 7,
   "metadata": {},
   "outputs": [],
   "source": [
    "import pandas as pd\n",
    "import datetime\n",
    "import pandas_gbq\n",
    "from datetime import date, timedelta"
   ]
  },
  {
   "cell_type": "markdown",
   "metadata": {},
   "source": [
    "------------------------\n",
    "# NO BORRAR \n",
    "-----------------------"
   ]
  },
  {
   "cell_type": "markdown",
   "metadata": {},
   "source": [
    "### OPCION 1 CREAR CALENDARIO CON UN DATAFRAME"
   ]
  },
  {
   "cell_type": "code",
   "execution_count": 6,
   "metadata": {},
   "outputs": [
    {
     "ename": "TypeError",
     "evalue": "descriptor 'date' for 'datetime.datetime' objects doesn't apply to a 'int' object",
     "output_type": "error",
     "traceback": [
      "\u001b[1;31m---------------------------------------------------------------------------\u001b[0m",
      "\u001b[1;31mTypeError\u001b[0m                                 Traceback (most recent call last)",
      "Cell \u001b[1;32mIn[6], line 2\u001b[0m\n\u001b[0;32m      1\u001b[0m \u001b[38;5;66;03m# Crear un DataFrame con todas las fechas de 2025\u001b[39;00m\n\u001b[1;32m----> 2\u001b[0m start_date \u001b[38;5;241m=\u001b[39m datetime\u001b[38;5;241m.\u001b[39mdate(\u001b[38;5;241m2025\u001b[39m, \u001b[38;5;241m1\u001b[39m, \u001b[38;5;241m1\u001b[39m)\n\u001b[0;32m      3\u001b[0m end_date \u001b[38;5;241m=\u001b[39m datetime\u001b[38;5;241m.\u001b[39mdate(\u001b[38;5;241m2025\u001b[39m, \u001b[38;5;241m12\u001b[39m, \u001b[38;5;241m31\u001b[39m)\n\u001b[0;32m      4\u001b[0m date_range \u001b[38;5;241m=\u001b[39m pd\u001b[38;5;241m.\u001b[39mdate_range(start\u001b[38;5;241m=\u001b[39mstart_date, end\u001b[38;5;241m=\u001b[39mend_date, freq\u001b[38;5;241m=\u001b[39m\u001b[38;5;124m'\u001b[39m\u001b[38;5;124mD\u001b[39m\u001b[38;5;124m'\u001b[39m)\n",
      "\u001b[1;31mTypeError\u001b[0m: descriptor 'date' for 'datetime.datetime' objects doesn't apply to a 'int' object"
     ]
    }
   ],
   "source": [
    "\n",
    "# Crear un DataFrame con todas las fechas de 2025\n",
    "start_date = datetime.date(2025, 1, 1)\n",
    "end_date = datetime.date(2025, 12, 31)\n",
    "date_range = pd.date_range(start=start_date, end=end_date, freq='D')\n",
    " \n",
    "data = []\n",
    " \n",
    "for date in date_range:\n",
    "    weeknum = date.isocalendar()[1]\n",
    "    month = date.month\n",
    "    year = date.year\n",
    "   \n",
    "    for web_no_web in ['WEB', 'NO WEB']:\n",
    "        data.append([\n",
    "            date, weeknum, month, year, 'CRO', 'SPAIN', 'TUNISIA', web_no_web,\n",
    "            0, 'kkkkk', 0, 'kkkkk', 0, 'kkkkk', 0, 0, 'kkkkk', 0, 0, 0, 0,0\n",
    "        ])\n",
    " \n",
    "columns = [\n",
    "    'Date', 'Weeknum', 'Month', 'Year', 'CRO_No_CRO', 'BU', 'Country', 'Web_No_Web',\n",
    "    'Incoming_Mails ', 'Percentage_Mails', 'Productive_Mails ', 'Conv_Rate', 'Rooms', 'LoS', 'Nights', 'ADR',\n",
    "    'Other_AOV', 'AOV', 'Room_Revenue', 'Other_Revenue', 'Total_Revenue','AOV'\n",
    "]\n",
    " \n",
    "df = pd.DataFrame(data, columns=columns)\n",
    " \n",
    "df = df.iloc[:,[0,1,2,3,4,8,9,10,11,12,13,14,15,16,21,18,19,20,7,5,6]]\n",
    "df = df.astype(str)\n",
    " \n",
    "# pandas_gbq.to_gbq(df, destination_table= 'KPI_metrics.Budget_mail_2025',project_id= 'nh-cro-forecast', if_exists='append')"
   ]
  },
  {
   "cell_type": "markdown",
   "metadata": {},
   "source": [
    "### OPCION 2 PARA CREAR SOLO WEB Y NO WEB"
   ]
  },
  {
   "cell_type": "code",
   "execution_count": 48,
   "metadata": {},
   "outputs": [],
   "source": [
    "# Crear un nuevo DataFrame duplicando las filas y añadiendo la columna Web_No_Web\n",
    "df_web = df.copy()\n",
    "df_web['Web_No_Web'] = 'Web'\n",
    "\n",
    "df_no_web = df.copy()\n",
    "df_no_web['Web_No_Web'] = 'No_Web'\n",
    "df_no_web['Total_Revenue'] = 0\n",
    "df_no_web['Rooms'] = 0\n",
    "df_no_web['Incoming_Mails'] = 0\n",
    "df_no_web['Productive_Mails'] = 0\n",
    "df_no_web['Nights'] = 0\n",
    "df_no_web['Room_Revenue'] = 0\n",
    "df_no_web['Other_Revenue'] = 0\n",
    "\n",
    "# Concatenar los DataFrames\n",
    "df_final = pd.concat([df_web, df_no_web], ignore_index=True)"
   ]
  },
  {
   "cell_type": "markdown",
   "metadata": {},
   "source": [
    "------------------------\n",
    "# NO BORRAR \n",
    "-----------------------"
   ]
  },
  {
   "cell_type": "markdown",
   "metadata": {},
   "source": [
    "--------\n",
    "# Creacion de nuevos calendarios\n",
    "--------"
   ]
  },
  {
   "cell_type": "code",
   "execution_count": null,
   "metadata": {},
   "outputs": [],
   "source": [
    "# Crear un DataFrame con todas las fechas de 2025\n",
    "start_date = datetime.date(2024, 1, 1)\n",
    "end_date = datetime.date(2025, 12, 31)\n",
    "date_range = pd.date_range(start=start_date, end=end_date, freq='D')\n",
    " \n",
    "data = []\n",
    " \n",
    "for Day in date_range:\n",
    "    Week = Day.isocalendar()[1]\n",
    "    Month = Day.month\n",
    "    Year = Day.year\n",
    "   \n",
    "    for web_no_web in ['WEB', 'NO WEB']:\n",
    "        data.append([\n",
    "            Day, Week, Month, Year, 'BUSE','CRO','SPAIN','ANDORRA', web_no_web\n",
    "        ])\n",
    "    for web_no_web in ['WEB', 'NO WEB']:\n",
    "        data.append([\n",
    "            Day, Week, Month, Year, 'LATAM','CRO Mexico','MEXICO','CUBA', web_no_web\n",
    "        ])\n",
    "    for web_no_web in ['WEB', 'NO WEB']:\n",
    "        data.append([\n",
    "            Day, Week, Month, Year, 'BUNE','CRO','BENELUX','FINLAND', web_no_web\n",
    "        ])\n",
    "    for web_no_web in ['WEB', 'NO WEB']:\n",
    "        data.append([\n",
    "            Day, Week, Month, Year, 'LATAM','CRO Colombia','COLOMBIA','HAITI', web_no_web\n",
    "        ])\n",
    "    for web_no_web in ['WEB', 'NO WEB']:\n",
    "        data.append([\n",
    "            Day, Week, Month, Year, 'BUSE','CRO','SPAIN','TUNISIA', web_no_web\n",
    "        ])\n",
    "    for web_no_web in ['WEB', 'NO WEB']:\n",
    "        data.append([\n",
    "            Day, Week, Month, Year, 'LATAM','CRO Mexico','MEXICO','DOMINICAN REPUBLIC', web_no_web\n",
    "        ]) \n",
    "columns = [\n",
    "    'Day', 'Week', 'Month', 'Year', 'Sub_BU', 'CRO_NOCRO', 'BU', 'COUNTRY','WEB_NOWEB', \n",
    "]\n",
    " \n",
    "df = pd.DataFrame(data, columns=columns)\n",
    " \n",
    "# df = df.iloc[:,[0,1,2,3,4,8,9,10,11,12,13,14,15,16,21,18,19,20,7,5,6]]\n",
    "df = df.astype(str)\n",
    " \n",
    "# pandas_gbq.to_gbq(df, destination_table= 'KPI_metrics.Template_V2',project_id= 'nh-cro-forecast', if_exists='append')"
   ]
  },
  {
   "cell_type": "code",
   "execution_count": 21,
   "metadata": {},
   "outputs": [
    {
     "name": "stdout",
     "output_type": "stream",
     "text": [
      "<class 'pandas.core.frame.DataFrame'>\n",
      "RangeIndex: 8772 entries, 0 to 8771\n",
      "Data columns (total 9 columns):\n",
      " #   Column     Non-Null Count  Dtype \n",
      "---  ------     --------------  ----- \n",
      " 0   Day        8772 non-null   object\n",
      " 1   Week       8772 non-null   object\n",
      " 2   Month      8772 non-null   object\n",
      " 3   Year       8772 non-null   object\n",
      " 4   Sub_BU     8772 non-null   object\n",
      " 5   CRO_NOCRO  8772 non-null   object\n",
      " 6   BU         8772 non-null   object\n",
      " 7   COUNTRY    8772 non-null   object\n",
      " 8   WEB_NOWEB  8772 non-null   object\n",
      "dtypes: object(9)\n",
      "memory usage: 616.9+ KB\n"
     ]
    }
   ],
   "source": [
    "df.info()"
   ]
  },
  {
   "cell_type": "code",
   "execution_count": 22,
   "metadata": {},
   "outputs": [
    {
     "name": "stderr",
     "output_type": "stream",
     "text": [
      "100%|██████████| 1/1 [00:00<?, ?it/s]\n"
     ]
    }
   ],
   "source": [
    "pandas_gbq.to_gbq(df, destination_table= 'KPI_metrics.Template_V2',project_id= 'nh-cro-forecast', if_exists='append')"
   ]
  }
 ],
 "metadata": {
  "kernelspec": {
   "display_name": "base",
   "language": "python",
   "name": "python3"
  },
  "language_info": {
   "codemirror_mode": {
    "name": "ipython",
    "version": 3
   },
   "file_extension": ".py",
   "mimetype": "text/x-python",
   "name": "python",
   "nbconvert_exporter": "python",
   "pygments_lexer": "ipython3",
   "version": "3.11.7"
  }
 },
 "nbformat": 4,
 "nbformat_minor": 2
}
